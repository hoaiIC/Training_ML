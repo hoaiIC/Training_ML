{
 "cells": [
  {
   "cell_type": "markdown",
   "metadata": {
    "id": "eHSVABSx6gXT"
   },
   "source": [
    "## 6) TÍNH TOÁN GIÁ TRỊ CÁC PHẦN TỬ TRONG MẢNG SỬ DỤNG NUMPY\n",
    "---\n",
    "### 6.1) Các phép tính toán học"
   ]
  },
  {
   "cell_type": "code",
   "execution_count": 1,
   "metadata": {
    "id": "_XnBt7NKyG7d"
   },
   "outputs": [
    {
     "name": "stdout",
     "output_type": "stream",
     "text": [
      "x     = [0 1 2 3 4 5 6 7]\n",
      "----------------------------------\n",
      "x + 5  = [ 5  6  7  8  9 10 11 12]\n",
      "x - 5  = [-5 -4 -3 -2 -1  0  1  2]\n",
      " -x    = [ 0 -1 -2 -3 -4 -5 -6 -7]\n",
      "x * 2  = [ 0  2  4  6  8 10 12 14]\n",
      "x / 2  = [0.  0.5 1.  1.5 2.  2.5 3.  3.5]\n",
      "x // 2 = [0 0 1 1 2 2 3 3]\n",
      "x % 2  = [0 1 0 1 0 1 0 1]\n",
      "x ^ 3  = [  0   1   8  27  64 125 216 343]\n"
     ]
    }
   ],
   "source": [
    "import numpy as np\n",
    "x = np.arange(8)\n",
    "print(\"x     =\", x)\n",
    "print('----------------------------------')\n",
    "#Các phép toán đã giới thiệu trong buổi 01\n",
    "print(\"x + 5  =\", x + 5)\n",
    "print(\"x - 5  =\", x - 5)\n",
    "print(\" -x    =\", -x)\n",
    "print(\"x * 2  =\", x * 2)\n",
    "print(\"x / 2  =\", x / 2)\n",
    "print(\"x // 2 =\", x // 2)\n",
    "print(\"x % 2  =\", x % 2)\n",
    "print(\"x ^ 3  =\", x**3)"
   ]
  },
  {
   "cell_type": "code",
   "execution_count": 2,
   "metadata": {
    "id": "HIfsKGZZuF_r"
   },
   "outputs": [
    {
     "name": "stdout",
     "output_type": "stream",
     "text": [
      "x      = [0 1 2 3 4 5 6 7]\n",
      "---------------------------------\n",
      "x + 5  = [ 5  6  7  8  9 10 11 12]\n",
      "x - 5  = [-5 -4 -3 -2 -1  0  1  2]\n",
      "-x     = [ 0 -1 -2 -3 -4 -5 -6 -7]\n",
      "x * 2  = [ 0  2  4  6  8 10 12 14]\n",
      "x / 2  = [0.  0.5 1.  1.5 2.  2.5 3.  3.5]\n",
      "x // 2 = [0 0 1 1 2 2 3 3]\n",
      "x % 2  = [0 1 0 1 0 1 0 1]\n",
      "x ^ 3  = [  0   1   8  27  64 125 216 343]\n"
     ]
    }
   ],
   "source": [
    "print(\"x      =\", x)\n",
    "print('---------------------------------')\n",
    "#Sử dụng các phương thức của NumPy\n",
    "print(\"x + 5  =\", np.add(x,5))\n",
    "print(\"x - 5  =\", np.subtract(x, 5))\n",
    "print(\"-x     =\", np.negative(x))\n",
    "print(\"x * 2  =\", np.multiply(x,2))\n",
    "print(\"x / 2  =\", np.divide(x,2))\n",
    "print(\"x // 2 =\", np.floor_divide(x, 2))\n",
    "print(\"x % 2  =\", np.mod(x,2))\n",
    "print(\"x ^ 3  =\", np.power(x,3))"
   ]
  },
  {
   "cell_type": "markdown",
   "metadata": {
    "id": "S5yVIan6uF_s"
   },
   "source": [
    "### 6.2) Abs|Trigonometric Functions in NumPy\n",
    "---"
   ]
  },
  {
   "cell_type": "code",
   "execution_count": null,
   "metadata": {
    "id": "LbmNKRaDuF_s"
   },
   "outputs": [],
   "source": [
    "x = np.array([-2, -1, 0, 1, 2])\n",
    "print(x)\n",
    "print('----------------------')\n",
    "print(np.abs(x))\n",
    "print(np.absolute(x))\n"
   ]
  },
  {
   "cell_type": "code",
   "execution_count": null,
   "metadata": {
    "id": "7IajkZ9IuF_t"
   },
   "outputs": [],
   "source": [
    "theta = np.linspace(0, np.pi, 3)\n",
    "print(\"theta      = \", theta)\n",
    "print('------------------------------------------')\n",
    "print(\"sin(theta) = \", np.sin(theta))\n",
    "print(\"cos(theta) = \", np.cos(theta))\n",
    "print(\"tan(theta) = \", np.tan(theta))\n"
   ]
  },
  {
   "cell_type": "code",
   "execution_count": null,
   "metadata": {
    "id": "QuIETBi5uF_w"
   },
   "outputs": [],
   "source": [
    "x = [-1, 0, 1]\n",
    "print(\"x         = \", x)\n",
    "print('----------------------------------')\n",
    "print(\"arcsin(x) = \", np.arcsin(x))\n",
    "print(\"arccos(x) = \", np.arccos(x))\n",
    "print(\"arctan(x) = \", np.arctan(x))"
   ]
  },
  {
   "cell_type": "markdown",
   "metadata": {
    "id": "Bl-XLAE4uF_z"
   },
   "source": [
    "## 6.3) Logarithmic and Exponential Functions\n",
    "---"
   ]
  },
  {
   "cell_type": "code",
   "execution_count": null,
   "metadata": {
    "id": "2njHmH0MuF_0"
   },
   "outputs": [],
   "source": [
    "x = np.array([1, 2, 3])\n",
    "\n",
    "print(\"x     =\", x)\n",
    "print('---------------------------')\n",
    "print(\"e^x   =\", np.exp(x))\n",
    "print(\"2^x   =\", np.exp2(x))\n",
    "print(\"3^x   =\", np.power(3, x))"
   ]
  },
  {
   "cell_type": "code",
   "execution_count": null,
   "metadata": {
    "id": "v__JuG3YuF_1"
   },
   "outputs": [],
   "source": [
    "x = np.array([1, 2, 4, 100])\n",
    "\n",
    "print(\"x        =\", x)\n",
    "print('---------------------------')\n",
    "print(\"ln(x)    =\", np.log(x))\n",
    "print(\"log2(x)  =\", np.log2(x))\n",
    "print(\"log10(x) =\", np.log10(x))"
   ]
  },
  {
   "cell_type": "markdown",
   "metadata": {
    "id": "njXtvUoEuF_2"
   },
   "source": [
    "## 6.4 Rounding Functions\n",
    "---"
   ]
  },
  {
   "cell_type": "code",
   "execution_count": null,
   "metadata": {
    "id": "tSZ7fDSluF_3"
   },
   "outputs": [],
   "source": [
    "import numpy as np  \n",
    "arr = np.array([20.8999,67.89899,54.43409]) \n",
    "\n",
    "print(arr)\n",
    "print('----------------------------------')\n",
    "#1) Làm tròn tới 1 số sau dấu ,\n",
    "print(np.around(arr,1))\n",
    "\n",
    "#2)Làm tròn tới 2 số sau dấu ,\n",
    "print(np.around(arr,2))\n",
    "\n",
    "#3)Làm tròn xuống số nguyên gần nhất\n",
    "print(np.floor(arr))\n",
    "\n",
    "#4)Làm tròn lên số nguyên gần nhất\n",
    "print(np.ceil(arr))"
   ]
  },
  {
   "cell_type": "markdown",
   "metadata": {
    "id": "wYXLQ3qluF_4"
   },
   "source": [
    "## 7) Sắp xếp các phần tử trong mảng\n",
    "---\n",
    "np.sort: Thực hiện sắp xếp các phần tử trong mảng theo thứ tự tăng dần (hàng, cột)"
   ]
  },
  {
   "cell_type": "code",
   "execution_count": null,
   "metadata": {
    "id": "hAqiWovZuF_4"
   },
   "outputs": [],
   "source": [
    "#7.1) Sắp xếp các phần tử trong một vector\n",
    "a = np.random.randint(1,33,15)\n",
    "\n",
    "print('Vector ban đầu:\\n', a)\n",
    "print('---------------------------------')\n",
    "#Sắp xếp vector a tăng dần\n",
    "a_sort = np.sort(a)\n",
    "\n",
    "#Sắp xếp vector a giảm dần:\n",
    "#1) Lật vector a_sort để sắp xếp giảm dần\n",
    "b_sort = np.flip(a_sort)\n",
    "#2) sử dụng -np.sort(-x)\n",
    "b_sort = -np.sort(-a)\n",
    "print('Vector sắp xếp tăng dần: \\n',a_sort)\n",
    "\n",
    "print('Vector sắp xếp giảm dần: \\n',b_sort)"
   ]
  },
  {
   "cell_type": "code",
   "execution_count": null,
   "metadata": {
    "id": "kfZYkse3uF_6"
   },
   "outputs": [],
   "source": [
    "#Sắp xếp các phần tử trong một vector\n",
    "a = np.random.randint(1,33,15)\n",
    "\n",
    "print('Vector ban đầu:\\n', a)\n",
    "print('--------------------------')\n",
    "b_sort = -np.sort(-a)\n",
    "print(b_sort)"
   ]
  },
  {
   "cell_type": "code",
   "execution_count": null,
   "metadata": {
    "id": "xwooGp8huF_9"
   },
   "outputs": [],
   "source": [
    "#7.1) Sắp xếp các phần tử trong một Ma trận\n",
    "A = np.random.randint(1,30,30).reshape(5,6)\n",
    "print('Ma trận A:\\n', A)"
   ]
  },
  {
   "cell_type": "code",
   "execution_count": null,
   "metadata": {
    "id": "DhGySrXzuF_-"
   },
   "outputs": [],
   "source": [
    "#1) Sắp xếp theo cột axis=0\n",
    "a_sort1 = np.sort(A,axis=0)\n",
    "print('Ma trận 1:\\n', a_sort1)"
   ]
  },
  {
   "cell_type": "code",
   "execution_count": null,
   "metadata": {
    "id": "FHc5vvu0uGAA"
   },
   "outputs": [],
   "source": [
    "#Sắp xếp các phần tử của ma trận A\n",
    "#2) Sắp xếp theo hàng axis=1 | Default\n",
    "a_sort2 = np.sort(A,axis=1)\n",
    "print('Ma trận 2:\\n', a_sort2)"
   ]
  },
  {
   "cell_type": "code",
   "execution_count": null,
   "metadata": {
    "id": "nS5Vw_PUuGAB"
   },
   "outputs": [],
   "source": [
    "#3) Chuyển thành vector và sắp xếp các phần tử tăng dần theo hàng\n",
    "v_sort = np.sort(A,axis=None)\n",
    "print('Vector: \\n', v_sort)"
   ]
  },
  {
   "cell_type": "code",
   "execution_count": null,
   "metadata": {
    "id": "RzM5rHgGuGAC"
   },
   "outputs": [],
   "source": [
    "#Sắp xếp tất cả các phần tử theo thứ tự tăng dần theo hàng\n",
    "a_sort3 = np.sort(A, axis=None).reshape(A.shape[0],A.shape[1])\n",
    "print('Ma trận 3:\\n', a_sort3)"
   ]
  },
  {
   "cell_type": "code",
   "execution_count": null,
   "metadata": {
    "id": "OlMlb5YYuGAD"
   },
   "outputs": [],
   "source": [
    "#thuộc tính kind=‘quicksort’- Default, ‘mergesort’, ‘heapsort’, ‘stable’\n",
    "a_sort1 = np.sort(A,axis=0, kind='mergesort')\n",
    "print('Ma trận 1:\\n', a_sort1)"
   ]
  },
  {
   "cell_type": "markdown",
   "metadata": {
    "id": "o2cyDLa5uGAE"
   },
   "source": [
    "## 8) Tìm kiếm các phần tử trong mảng\n",
    "---\n",
    "np.where: Thực hiện tìm kiếm các phần tử trong mảng"
   ]
  },
  {
   "cell_type": "code",
   "execution_count": null,
   "metadata": {
    "id": "FBn-i18quGAE"
   },
   "outputs": [],
   "source": [
    "import numpy as np\n",
    "x = np.array([17, 2, 11, 1, 9, 15, 1, 3, 8, 1, 12, 13, 5])\n",
    "#1) Tìm kiếm các phần tử có giá trị ==1\n",
    "t1 = np.where(x==1)\n",
    "print(t1)\n",
    "print('1. Số phần tử thỏa mãn điều kiện = 1: ', t1[0].size)\n",
    "print('-----------------------------------------------')\n",
    "#2)Tìm kiếm các phần tử có giá trị >10\n",
    "t2 = np.where(x>10)\n",
    "print(t2)\n",
    "print('2. Số phần tử thỏa mãn điều kiện>10: ', t2[0].size)\n",
    "print('-----------------------------------------------')\n",
    "#Tìm kiếm các phần tử có giá trị [5,12)\n",
    "t3 = np.where((x>=5) & (x<12))\n",
    "print(t3)\n",
    "print('3.Số phần tử thỏa mãn điều kiện [5,10): ', t3[0].size)\n"
   ]
  },
  {
   "cell_type": "code",
   "execution_count": null,
   "metadata": {
    "id": "hjqvv-5nuGAF"
   },
   "outputs": [],
   "source": [
    "import numpy as np\n",
    "#Tìm kiếm trên ma trận\n",
    "arr = np.array([(1, 2, 3, 4, 5, 4, 4),\n",
    "                (7, 3, 4, 8, 9, 6, 7)])\n",
    "#Tìm kiếm phần tử > 4\n",
    "x = np.where(arr >4)\n",
    "\n",
    "print('Ma trận A: \\n',arr)\n",
    "print('----------------------------------------')\n",
    "print(x)\n",
    "print('Số phần tử thỏa mãn điều kiện > 4:',x[0].size)"
   ]
  },
  {
   "cell_type": "code",
   "execution_count": null,
   "metadata": {
    "id": "AGHXijTyuGAF"
   },
   "outputs": [],
   "source": [
    "#Tìm kiếm và trả về kết quả với điều kiện đúng, sai\n",
    "#Nếu Đúng thay bằng T, sai thay thế bằng F\n",
    "x = np.where(arr >4,'T','F')\n",
    "print(x)"
   ]
  },
  {
   "cell_type": "markdown",
   "metadata": {
    "id": "RNABzZKZuGAG"
   },
   "source": [
    "# THỰC HÀNH 1:\n",
    "---\n",
    "\n",
    "**Yêu cầu 1: Đọc dữ liệu từ file Data_BMI.txt vào 2 vector tương ứng**\n",
    "1. v_height: chứa dữ liệu chiều cao\n",
    "2. v_Weight: Chứa dữ liệu cân nặng\n"
   ]
  },
  {
   "cell_type": "code",
   "execution_count": null,
   "metadata": {
    "id": "h9PmlPsDuGAG"
   },
   "outputs": [],
   "source": [
    "# {Viết code ở đây}\n",
    "\n",
    "\n"
   ]
  },
  {
   "cell_type": "code",
   "execution_count": null,
   "metadata": {
    "id": "ECVQTtNduGAG"
   },
   "outputs": [],
   "source": []
  },
  {
   "cell_type": "markdown",
   "metadata": {
    "id": "xo4MbCZCuGAH"
   },
   "source": [
    "**Yêu cầu 2: Tạo vector v_height_m2 từ vector v_height theo yêu cầu sau:**\n",
    "1. Chuyển đổi đơn vị của các phần tử từ cm sang m\n",
    "2. Tính bình phương giá trị các phần tử\n"
   ]
  },
  {
   "cell_type": "code",
   "execution_count": null,
   "metadata": {
    "id": "O8XWgIyAuGAH"
   },
   "outputs": [],
   "source": [
    "# {Viết code ở đây}\n",
    "\n",
    "\n"
   ]
  },
  {
   "cell_type": "code",
   "execution_count": null,
   "metadata": {
    "id": "vbgo2Cf_uGAH"
   },
   "outputs": [],
   "source": []
  },
  {
   "cell_type": "markdown",
   "metadata": {
    "id": "m7tNstG8uGAH"
   },
   "source": [
    "**Yêu cầu 3: Tính chỉ số BMI của 100 người ngày theo công thức bên dưới, chỉ số BMI được làm tròn tới 1 số sau dấu “,”. Lưu kết quả vào vector v_bmi**\n"
   ]
  },
  {
   "cell_type": "code",
   "execution_count": null,
   "metadata": {
    "id": "ORP_zUDcuGAI"
   },
   "outputs": [],
   "source": [
    "# {Viết code ở đây}\n",
    "\n",
    "\n"
   ]
  },
  {
   "cell_type": "markdown",
   "metadata": {
    "id": "ZZkux8sAuGAI"
   },
   "source": [
    "**Yêu cầu 4: Sắp xếp thứ tự các phần tử trong vector v_bmi theo chiều tăng dần, giảm dần**"
   ]
  },
  {
   "cell_type": "code",
   "execution_count": null,
   "metadata": {
    "id": "QKUes5qbuGAI"
   },
   "outputs": [],
   "source": [
    "# {Viết code ở đây}\n",
    "\n"
   ]
  },
  {
   "cell_type": "markdown",
   "metadata": {
    "id": "ZpeBt15HuGAI"
   },
   "source": [
    "**Yêu cầu 5: Thống kê số lượng người theo từng mức dựa vào phân loại theo hình**"
   ]
  },
  {
   "cell_type": "code",
   "execution_count": null,
   "metadata": {
    "id": "y99uyR5kuGAJ"
   },
   "outputs": [],
   "source": [
    "# {Viết code ở đây}\n",
    "\n"
   ]
  },
  {
   "cell_type": "markdown",
   "metadata": {
    "id": "l9gkZFRDuGAJ"
   },
   "source": [
    "## 9. MA TRẬN VUÔNG\n",
    "---\n",
    "### 9.1) det(a)"
   ]
  },
  {
   "cell_type": "code",
   "execution_count": null,
   "metadata": {
    "id": "HknshJ2SuGAJ"
   },
   "outputs": [],
   "source": [
    "import numpy as np\n",
    "a =np.array([( 1, 3, 1, 4),\n",
    "             ( 3, 9, 5,15),\n",
    "             ( 0, 2, 1, 1),\n",
    "             ( 0, 4, 2, 3)])\n",
    "print('Ma trận a:\\n',a)\n",
    "det_a =  np.linalg.det(a)\n",
    "print('det(a) = ', det_a)"
   ]
  },
  {
   "cell_type": "code",
   "execution_count": null,
   "metadata": {
    "id": "TxzeNc-tuGAK"
   },
   "outputs": [],
   "source": [
    "import numpy as np\n",
    "b =np.array([( 1, 2, 3, 4),\n",
    "             (-2,-1, 4, 1),\n",
    "             ( 3,-4,-5, 6),\n",
    "             ( 1, 2, 3, 4)])\n",
    "print('Ma trận b:\\n',b)\n",
    "det_b =  np.linalg.det(b)\n",
    "print('det(b) = ', det_b)"
   ]
  },
  {
   "cell_type": "code",
   "execution_count": null,
   "metadata": {
    "id": "9tbdJHIAuGAK"
   },
   "outputs": [],
   "source": [
    "a =np.array([( 3, 0, 2,-1),\n",
    "             ( 1, 2, 0,-2),\n",
    "             ( 4, 0, 6,-3),\n",
    "             ( 5, 0, 2, 0)])\n",
    "det_a =  np.linalg.det(a)\n",
    "print(det_a)"
   ]
  },
  {
   "cell_type": "markdown",
   "metadata": {
    "id": "HOFUJE0DuGAK"
   },
   "source": [
    "### 9.2) ma trận nghịch đảo\n",
    "---"
   ]
  },
  {
   "cell_type": "code",
   "execution_count": null,
   "metadata": {
    "id": "LhH0bQd-uGAM"
   },
   "outputs": [],
   "source": [
    "import numpy as np\n",
    "m = np.array([(1, 2, 3),\n",
    "              (0, 1, 4),\n",
    "              (5, 6, 0)])\n",
    "\n",
    "#Xác định ma trận nghịc đảo của m\n",
    "m1 = np.linalg.inv(m)\n",
    "print(m1)\n",
    "\n",
    "print(np.dot(m,m1).astype(int))"
   ]
  },
  {
   "cell_type": "code",
   "execution_count": null,
   "metadata": {
    "id": "K0AZWSPKuGAM"
   },
   "outputs": [],
   "source": [
    "#Trường hợp det(a) = 0; không tồn tại ma trận nghịch đảo.\n",
    "import numpy as np\n",
    "b =np.array([( 1, 2, 3, 4),\n",
    "             (-2,-1, 4, 1),\n",
    "             ( 3,-4,-5, 6),\n",
    "             ( 1, 2, 3, 4)])\n",
    "print('Ma trận b:\\n',b)\n",
    "det_b =  np.linalg.det(b)\n",
    "print('det(b) = ', det_b)\n",
    "\n",
    "b1 = np.linalg.inv(b)"
   ]
  },
  {
   "cell_type": "code",
   "execution_count": null,
   "metadata": {
    "id": "FobnZRwDuGAN"
   },
   "outputs": [],
   "source": [
    "np.dot(a,b1)"
   ]
  },
  {
   "cell_type": "code",
   "execution_count": null,
   "metadata": {
    "id": "f-8aCgbbuGAN"
   },
   "outputs": [],
   "source": [
    "a1 = a.diagonal()\n",
    "print(a1)"
   ]
  },
  {
   "cell_type": "markdown",
   "metadata": {
    "id": "o39Xhdv8uGAN"
   },
   "source": [
    "### 9.3) Đường chéo trong ma trận vuông\n",
    "---\n",
    "A) Lấy các phần tử trên đường chéo"
   ]
  },
  {
   "cell_type": "code",
   "execution_count": null,
   "metadata": {
    "id": "QizBE4QIuGAN"
   },
   "outputs": [],
   "source": [
    "A = np.random.randint(1,100,(10,10))\n",
    "print(A)"
   ]
  },
  {
   "cell_type": "code",
   "execution_count": null,
   "metadata": {
    "id": "QcMfLx-NuGAO"
   },
   "outputs": [],
   "source": [
    "#Lấy các phần tử trên đường chéo chính của \n",
    "#ma trận vuông A\n",
    "d_A = A.diagonal()\n",
    "print(d_A)"
   ]
  },
  {
   "cell_type": "code",
   "execution_count": null,
   "metadata": {
    "id": "amdzSr0RuGAO"
   },
   "outputs": [],
   "source": [
    "#Lấy các phần tử nằm trên đường chéo chính\n",
    "#của ma trận a 1 phần tử\n",
    "d_A1 =  A.diagonal(2)\n",
    "print(d_A1)"
   ]
  },
  {
   "cell_type": "code",
   "execution_count": null,
   "metadata": {
    "id": "g-ULnPUyuGAO"
   },
   "outputs": [],
   "source": [
    "#Lấy các phần tử nằm dưới đường chéo chính\n",
    "#của ma trận a 4 phần tử\n",
    "d_A1 =  A.diagonal(-1)\n",
    "print(d_A1)"
   ]
  },
  {
   "cell_type": "markdown",
   "metadata": {
    "id": "8tJjpwPsuGAO"
   },
   "source": [
    "**B) Lấy ma trận tam giác**"
   ]
  },
  {
   "cell_type": "code",
   "execution_count": null,
   "metadata": {
    "id": "leOfvQsnuGAP"
   },
   "outputs": [],
   "source": [
    "#MA TRẬN TAM GIÁC TRÊN\n",
    "#ma trận A\n",
    "d_A1 = np.triu(A)\n",
    "print(d_A1)"
   ]
  },
  {
   "cell_type": "code",
   "execution_count": null,
   "metadata": {
    "id": "2jraEErCuGAP"
   },
   "outputs": [],
   "source": [
    "#MA TRẬN TAM GIÁC TRÊN\n",
    "#Tạo ma trận là các phần tử trên đường chéo chính \n",
    "#của ma trận vuông A cách đường chéo chính\n",
    "#về phía trên 2 đường\n",
    "d_A1 = np.triu(A,2)\n",
    "print(d_A1)"
   ]
  },
  {
   "cell_type": "code",
   "execution_count": null,
   "metadata": {
    "id": "GtpwTExiuGAP"
   },
   "outputs": [],
   "source": [
    "#MA TRẬN TAM GIÁC TRÊN\n",
    "#Tạo ma trận là các phần tử trên đường chéo chính \n",
    "#của ma trận vuông A cách đường chéo chính\n",
    "#về phía dưới 3 đường\n",
    "d_A1 = np.triu(A,-3)\n",
    "print(d_A1)"
   ]
  },
  {
   "cell_type": "code",
   "execution_count": null,
   "metadata": {
    "id": "Z6jUvl_HuGAQ"
   },
   "outputs": [],
   "source": [
    "#MA TRẬN TAM GIÁC DƯỚI\n",
    "#của ma trận vuông A\n",
    "b_A1 = np.tril(A)\n",
    "print(b_A1)"
   ]
  },
  {
   "cell_type": "code",
   "execution_count": null,
   "metadata": {
    "id": "AKWEgd-huGAR"
   },
   "outputs": [],
   "source": [
    "b_A1 = np.tril(A,-1)\n",
    "print(b_A1)"
   ]
  },
  {
   "cell_type": "code",
   "execution_count": null,
   "metadata": {
    "id": "ic-rWLVvuGAS"
   },
   "outputs": [],
   "source": [
    "b_A1 = np.tril(A,1)\n",
    "print(b_A1)"
   ]
  },
  {
   "cell_type": "markdown",
   "metadata": {
    "id": "RHz1j9GYuGAS"
   },
   "source": [
    "**C) Trace of Matrix**"
   ]
  },
  {
   "cell_type": "code",
   "execution_count": null,
   "metadata": {
    "id": "Z2njm3GHuGAT"
   },
   "outputs": [],
   "source": [
    "#Tính trace của ma trận vuông A\n",
    "trace_A = A.trace()\n",
    "print('Trace of Matrix A: ',trace_A)"
   ]
  },
  {
   "cell_type": "code",
   "execution_count": null,
   "metadata": {
    "id": "l0CdIcxKuGAT"
   },
   "outputs": [],
   "source": [
    "#Cách 2: Tính trace của ma trận vuông A\n",
    "trace_A = A.diagonal().sum()\n",
    "print('Trace of Matrix A: ',trace_A)"
   ]
  },
  {
   "cell_type": "markdown",
   "metadata": {
    "id": "t2XudxYTuGAT"
   },
   "source": [
    "#### D) Eigenvector | Eigenvalues\n",
    "---"
   ]
  },
  {
   "cell_type": "code",
   "execution_count": null,
   "metadata": {
    "id": "z8vQYRpfuGAT"
   },
   "outputs": [],
   "source": [
    "#Tìm giá trị riêng, vector riêng của vector A\n",
    "A = np.array([(3, 4,-2),\n",
    "              (1, 4,-1),\n",
    "              (2, 6,-1)])\n",
    "\n",
    "eigenvalues, eigenvectors = np.linalg.eig(A)\n",
    "print('Eigenvalues: ', eigenvalues)\n",
    "print('Eigenvectors: \\n',eigenvectors)"
   ]
  },
  {
   "cell_type": "code",
   "execution_count": null,
   "metadata": {
    "id": "rlgjLIMHuGAU"
   },
   "outputs": [],
   "source": [
    "t = eigenvectors[:,0]\n",
    "print(t)"
   ]
  },
  {
   "cell_type": "code",
   "execution_count": null,
   "metadata": {
    "id": "wKdPdU4duGAU"
   },
   "outputs": [],
   "source": [
    "print(A@t)"
   ]
  },
  {
   "cell_type": "code",
   "execution_count": null,
   "metadata": {
    "id": "z2gW46rVuGAU"
   },
   "outputs": [],
   "source": [
    "print(3*t)"
   ]
  },
  {
   "cell_type": "markdown",
   "metadata": {
    "id": "pSgf5VUsuGAU"
   },
   "source": [
    "## THỰC HÀNH 2:\n",
    "---\n",
    "**Yêu cầu 1: Sử dụng vector_weigth trong bài thực hành 1 chuyển về ma trận kích thước 10 x 10**"
   ]
  },
  {
   "cell_type": "code",
   "execution_count": null,
   "metadata": {
    "id": "EsYkAgEfuGAU"
   },
   "outputs": [],
   "source": [
    "# {Viết code ở đây}\n",
    "\n",
    "\n",
    "\n"
   ]
  },
  {
   "cell_type": "markdown",
   "metadata": {
    "id": "47P_okI6uGAV"
   },
   "source": [
    "**Yêu cầu 2: Cho biết ma trận weight có tồn tại ma trân nghịch đảo không? Nếu có hãy xác định ma trận weight-1 ?**"
   ]
  },
  {
   "cell_type": "code",
   "execution_count": null,
   "metadata": {
    "id": "ur8FRcPzuGAV"
   },
   "outputs": [],
   "source": [
    "# {Viết code ở đây}"
   ]
  },
  {
   "cell_type": "code",
   "execution_count": null,
   "metadata": {
    "id": "QWg7ic8suGAV"
   },
   "outputs": [],
   "source": []
  },
  {
   "cell_type": "markdown",
   "metadata": {
    "id": "mej5HYiXuGAV"
   },
   "source": [
    "**Yêu cầu 3: Tạo vector_diagonal chứa các phần tử trên đường chéo chính của ma trận weight, tính trace của ma trận weight.**"
   ]
  },
  {
   "cell_type": "code",
   "execution_count": null,
   "metadata": {
    "id": "lpgi6GxquGAW"
   },
   "outputs": [],
   "source": [
    "# {Viết code ở đây}"
   ]
  },
  {
   "cell_type": "markdown",
   "metadata": {
    "id": "ia1nB07wuGAW"
   },
   "source": [
    "**Yêu cầu 4: Tìm giá trị lớn nhất của ma trận đường chéo trên và ma trận đường chéo dưới không bao gồm các phần tử trên đường chéo chính**"
   ]
  },
  {
   "cell_type": "code",
   "execution_count": null,
   "metadata": {
    "id": "2N1fScV1uGAW"
   },
   "outputs": [],
   "source": [
    "# {Viết code ở đây}"
   ]
  },
  {
   "cell_type": "code",
   "execution_count": null,
   "metadata": {
    "id": "OK679YHfuGAW"
   },
   "outputs": [],
   "source": []
  },
  {
   "cell_type": "markdown",
   "metadata": {
    "id": "ax_ZZ3OfuGAW"
   },
   "source": [
    "## 10. Phép toán trên 2 mảng\n",
    "---\n",
    "### 10.1) Cộng/trừ"
   ]
  },
  {
   "cell_type": "code",
   "execution_count": null,
   "metadata": {
    "id": "4MoTAAbXuGAX"
   },
   "outputs": [],
   "source": [
    "import numpy as np\n",
    "\n",
    "a = np.random.randint(1,20,(3,5))\n",
    "b = np.random.randint(1,20,(3,5))\n",
    "print('Matrix a: \\n',a)\n",
    "print('Matrix b: \\n',b)"
   ]
  },
  {
   "cell_type": "code",
   "execution_count": null,
   "metadata": {
    "id": "f8tIc78QuGAX"
   },
   "outputs": [],
   "source": [
    "a*b"
   ]
  },
  {
   "cell_type": "code",
   "execution_count": null,
   "metadata": {
    "id": "QDnz1lNBuGAX"
   },
   "outputs": [],
   "source": [
    "print('Matrix a: \\n',a)\n",
    "print('Matrix b: \\n',b)"
   ]
  },
  {
   "cell_type": "code",
   "execution_count": null,
   "metadata": {
    "id": "PQF7Iy78uGAY"
   },
   "outputs": [],
   "source": [
    "#1) So sánh 2 ma trận\n",
    "equal_ab = np.equal(a,b)\n",
    "#hoặc equal_ab = a==b\n",
    "\n",
    "print(equal_ab)"
   ]
  },
  {
   "cell_type": "code",
   "execution_count": null,
   "metadata": {
    "id": "EaEZCEwOuGAY"
   },
   "outputs": [],
   "source": [
    "#Phép cộng 2 ma trận\n",
    "sum_ab = np.add(a,b)\n",
    "#hoặc sum_ab = a + b\n",
    "print (sum_ab)"
   ]
  },
  {
   "cell_type": "code",
   "execution_count": null,
   "metadata": {
    "id": "9hpsGkWluGAY"
   },
   "outputs": [],
   "source": [
    "#Phép trừ 2 ma trận\n",
    "sub_ab = np.subtract(a,b)\n",
    "#hoặc sub_ab = a - b\n",
    "print (sub_ab)"
   ]
  },
  {
   "cell_type": "code",
   "execution_count": null,
   "metadata": {
    "id": "4xxDAsSquGAY"
   },
   "outputs": [],
   "source": [
    "c = np.random.randint(1,20,(5,4))\n",
    "print('Matrix a: \\n',a)\n",
    "print('Matrix c: \\n',c)"
   ]
  },
  {
   "cell_type": "code",
   "execution_count": null,
   "metadata": {
    "id": "EnqgvK1BuGAZ"
   },
   "outputs": [],
   "source": [
    "#3) Tích của 2 ma trận:\n",
    "#multi_ac = np.dot(a,c)\n",
    "multi_ac1 = a@c\n",
    "print(multi_ac)"
   ]
  },
  {
   "cell_type": "code",
   "execution_count": null,
   "metadata": {
    "id": "jjemBJoluGAZ"
   },
   "outputs": [],
   "source": [
    "#Lưu ý: Nếu sử dụng phép toán *, \n",
    "#thực hiện nhân từng phần của ma trận a và b\n",
    "#a, b có cùng kích thước.\n",
    "\n",
    "multi_ac = a*b\n",
    "print(multi_ac)"
   ]
  },
  {
   "cell_type": "code",
   "execution_count": null,
   "metadata": {
    "id": "TwIOzDPVuGAZ"
   },
   "outputs": [],
   "source": [
    "#Tích của 2 vector:\n",
    "vector_a = np.random.randint(1,20,10)\n",
    "vector_b = np.random.randint(1,20,10)\n",
    "#Thực hiện tính tích của 2 vector\n",
    "#Kết quả trả về một số\n",
    "vector_ab = vector_a @ vector_b\n",
    "\n",
    "print('Vector a:\\n',vector_a)\n",
    "print('Vector b:\\n',vector_b)\n",
    "print('Tích của hai vector:\\n',vector_ab)"
   ]
  },
  {
   "cell_type": "markdown",
   "metadata": {
    "id": "LokzUAG_uGAZ"
   },
   "source": [
    "# THỰC HÀNH 3\n",
    "---\n",
    "**Yêu cầu 1: Chuyển vector_height, vector_weigth trong bài thực hành 1 về ma trận height, weight kích thước 10 x 10.**\n",
    "\n",
    "Thực hiện các phép toán: So sánh; Cộng; Trừ; Nhân hai ma trận height và weighT"
   ]
  },
  {
   "cell_type": "code",
   "execution_count": null,
   "metadata": {
    "id": "U74utbz6uGAZ"
   },
   "outputs": [],
   "source": [
    "# {Viết code ở đây}"
   ]
  },
  {
   "cell_type": "code",
   "execution_count": null,
   "metadata": {
    "id": "4IB-Ck6MuGAa"
   },
   "outputs": [],
   "source": []
  },
  {
   "cell_type": "markdown",
   "metadata": {
    "id": "zblT3225uGAa"
   },
   "source": [
    "## 11. Rank(A); A.T\n",
    "---\n",
    "### 11.1) Hạng của ma trận"
   ]
  },
  {
   "cell_type": "code",
   "execution_count": null,
   "metadata": {
    "id": "g3RjIdeSuGAa",
    "scrolled": true
   },
   "outputs": [],
   "source": [
    "A=np.array([(-1, 2, 0, 4, 5,-3),\n",
    "            ( 3,-7, 2, 0, 1, 4),\n",
    "            ( 2,-5, 2, 4, 6, 1),\n",
    "            ( 4,-9, 2,-4,-4, 7)])\n",
    "#Tìm hạng của ma trận A\n",
    "rank_a = np.linalg.matrix_rank(A)\n",
    "print(A)\n",
    "print('Rank(A) = ', rank_a)"
   ]
  },
  {
   "cell_type": "code",
   "execution_count": null,
   "metadata": {
    "id": "vrJh3o3xuGAa"
   },
   "outputs": [],
   "source": [
    "#Hạng của ma trận 0\n",
    "A_0 = np.zeros((4,5))\n",
    "print(A_0)\n",
    "rank = np.linalg.matrix_rank(A_0)\n",
    "print('Rank(A_0) = ', rank)"
   ]
  },
  {
   "cell_type": "code",
   "execution_count": null,
   "metadata": {
    "id": "oSqWPfbSuGAb"
   },
   "outputs": [],
   "source": [
    "#Hạng của ma trận có các phần tử bằng nhau\n",
    "A_cons = np.full((4,5),5)\n",
    "print(A_cons)\n",
    "rank_c = np.linalg.matrix_rank(A_cons)\n",
    "print('Rank(A_cons) = ', rank_c)"
   ]
  },
  {
   "cell_type": "code",
   "execution_count": null,
   "metadata": {
    "id": "124UzSqyuGAb"
   },
   "outputs": [],
   "source": [
    "#Hạng của ma trận có det(A)=0\n",
    "import numpy as np\n",
    "B =np.array([( 1, 2, 3, 4),\n",
    "             (-2,-1, 4, 1),\n",
    "             ( 3,-4,-5, 6),\n",
    "             ( 1, 2, 3, 4)])\n",
    "print('Ma trận B1:\\n',B)\n",
    "det_b =  np.linalg.det(B)\n",
    "print('det(B1) = ', det_b)\n",
    "rank_b = np.linalg.matrix_rank(B)\n",
    "print('Rank(B1) = ', rank_b)"
   ]
  },
  {
   "cell_type": "code",
   "execution_count": null,
   "metadata": {
    "id": "WDf2ZNwNuGAb"
   },
   "outputs": [],
   "source": [
    "#Hạng của ma trận có det(A)#0\n",
    "import numpy as np\n",
    "B =np.array([( 1, 3, 1, 4),\n",
    "             ( 3, 9, 5,15),\n",
    "             ( 0, 2, 1, 1),\n",
    "             ( 0, 4, 2, 3)])\n",
    "print('Ma trận B2:\\n',B)\n",
    "det_b =  np.linalg.det(B)\n",
    "print('det(B2) = ', round(det_b,2))\n",
    "rank_b = np.linalg.matrix_rank(B)\n",
    "print('Rank(B2) = ', rank_b)"
   ]
  },
  {
   "cell_type": "markdown",
   "metadata": {
    "id": "wx1mN0cAuGAc"
   },
   "source": [
    "### 11.2) Ma trận chuyển vị\n",
    "---"
   ]
  },
  {
   "cell_type": "code",
   "execution_count": null,
   "metadata": {
    "id": "1DAoRmHduGAk"
   },
   "outputs": [],
   "source": [
    "#MA TRẬN CHUYỂN VỊ\n",
    "A=np.array([(-1, 2, 0, 4, 5,-3),\n",
    "            ( 3,-7, 2, 0, 1, 4),\n",
    "            ( 2,-5, 2, 4, 6, 1),\n",
    "            ( 4,-9, 2,-4,-4, 7)])\n",
    "#Tìm ma trận chuyển vị của A\n",
    "A_T = A.T\n",
    "print('Ma trận A:\\n',A)\n",
    "print('Ma trận chuyển vị của A:\\n',A_T)"
   ]
  },
  {
   "cell_type": "code",
   "execution_count": null,
   "metadata": {
    "id": "HnvhiN_9uGAk"
   },
   "outputs": [],
   "source": [
    "B =np.array([( 1, 3, 1, 4),\n",
    "             ( 3, 9, 5,15),\n",
    "             ( 0, 2, 1, 1),\n",
    "             ( 0, 4, 2, 3)])\n",
    "#Tìm ma trận chuyển vị của B\n",
    "B_T = B.T\n",
    "print('Ma trận B:\\n',B)\n",
    "print('Ma trận chuyển vị của B:\\n',B_T)"
   ]
  },
  {
   "cell_type": "markdown",
   "metadata": {
    "id": "4j3cyZPWuGAl"
   },
   "source": [
    "## THỰC HÀNH 4\n",
    "---\n",
    "Yêu cầu 4.1: Tìm ma trận nghịch đảo và hạng của ma trận Height, Weight trong bài thực hành số 3:"
   ]
  },
  {
   "cell_type": "code",
   "execution_count": null,
   "metadata": {
    "id": "n5-2oDQtuGAl"
   },
   "outputs": [],
   "source": [
    "# {Viết code ở đây}\n"
   ]
  },
  {
   "cell_type": "code",
   "execution_count": null,
   "metadata": {
    "id": "ofwqn9wKuGAl"
   },
   "outputs": [],
   "source": [
    "# {Viết code ở đây}"
   ]
  },
  {
   "cell_type": "code",
   "execution_count": null,
   "metadata": {
    "id": "trIDGEavuGAm"
   },
   "outputs": [],
   "source": []
  }
 ],
 "metadata": {
  "colab": {
   "collapsed_sections": [],
   "name": "Numpy_2.ipynb",
   "provenance": []
  },
  "kernelspec": {
   "display_name": "Python 3",
   "language": "python",
   "name": "python3"
  },
  "language_info": {
   "codemirror_mode": {
    "name": "ipython",
    "version": 3
   },
   "file_extension": ".py",
   "mimetype": "text/x-python",
   "name": "python",
   "nbconvert_exporter": "python",
   "pygments_lexer": "ipython3",
   "version": "3.8.8"
  }
 },
 "nbformat": 4,
 "nbformat_minor": 1
}
