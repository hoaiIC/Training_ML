{
 "cells": [
  {
   "cell_type": "code",
   "execution_count": 14,
   "metadata": {
    "colab_type": "text",
    "id": "wDtyCjZ4yc-W"
   },
   "outputs": [
    {
     "name": "stdout",
     "output_type": "stream",
     "text": [
      "[[1. 0. 0. 0.]\n",
      " [0. 1. 0. 0.]\n",
      " [0. 0. 1. 0.]\n",
      " [0. 0. 0. 1.]]\n"
     ]
    }
   ],
   "source": [
    "##  Sử dụng thư viện NumPy làm việc với ma trận \n",
    "import numpy as np\n",
    "# arr=np.ones((2,3),dtype=np.int16)\n",
    "# arr=np.arange(10,25,2)\n",
    "# arr=np.linspace(0,2,2)\n",
    "arr=np.eye(4)\n",
    "print(arr)\n"
   ]
  },
  {
   "cell_type": "markdown",
   "metadata": {
    "colab_type": "text",
    "id": "eHSVABSx6gXT"
   },
   "source": [
    "## I) CHUẨN BỊ CÁC THƯ VIỆN SỬ DỤNG"
   ]
  },
  {
   "cell_type": "markdown",
   "metadata": {
    "colab_type": "text",
    "id": "Amb6RsJJ4UtD"
   },
   "source": [
    "### 1) Kiểm tra các thư viện xem đã cài đặt hay chưa và phiên bản bao nhiêu?"
   ]
  },
  {
   "cell_type": "code",
   "execution_count": 2,
   "metadata": {
    "colab": {
     "base_uri": "https://localhost:8080/",
     "height": 34
    },
    "colab_type": "code",
    "id": "_XnBt7NKyG7d",
    "outputId": "f3341a80-d91e-4939-93b2-5996ca159000"
   },
   "outputs": [
    {
     "name": "stdout",
     "output_type": "stream",
     "text": [
      "Thư viện Numpy: Version:  1.19.2\n"
     ]
    }
   ],
   "source": [
    "#Kiểm tra phiên bản thư viện Numpy\n",
    "#import thư viện numpy để sử dụng\n",
    "import numpy as np \n",
    "\n",
    "print(\"Thư viện Numpy: Version: \", np.__version__)"
   ]
  },
  {
   "cell_type": "markdown",
   "metadata": {},
   "source": [
    "Viết code kiểm tra phiên bản thư viện:\n",
    "\n",
    "Matplotlib, Pandas, Scikit-learn"
   ]
  },
  {
   "cell_type": "code",
   "execution_count": 50,
   "metadata": {
    "colab": {},
    "colab_type": "code",
    "id": "kDsya1qx6NYG"
   },
   "outputs": [
    {
     "ename": "SyntaxError",
     "evalue": "invalid syntax (<ipython-input-50-7dc75a0fee9c>, line 6)",
     "output_type": "error",
     "traceback": [
      "\u001b[1;36m  File \u001b[1;32m\"<ipython-input-50-7dc75a0fee9c>\"\u001b[1;36m, line \u001b[1;32m6\u001b[0m\n\u001b[1;33m    import scikit-learn as sl\u001b[0m\n\u001b[1;37m                 ^\u001b[0m\n\u001b[1;31mSyntaxError\u001b[0m\u001b[1;31m:\u001b[0m invalid syntax\n"
     ]
    }
   ],
   "source": [
    "# {VIẾT CODE Ở ĐÂY}\n",
    "import pandas as pd\n",
    "print (\"Thư viện pandas: Version: \", pd.__version__)\n",
    "import matplotlib as mp\n",
    "print (\"Thư viện matplotlib: version: \", mp.__version__)\n",
    "import scikit-learn as sl\n",
    "print(\"Thư viện scikit-learn: version: \", sl.__version__)"
   ]
  },
  {
   "cell_type": "markdown",
   "metadata": {
    "colab_type": "text",
    "id": "XM0y2qpb4I0V"
   },
   "source": [
    "### 2) Cài đặt, cập nhật thư viện sử dụng lệnh\n",
    "\n",
    "Để cài đặt một thư viện mới sử dụng lệnh:\n",
    "\n",
    "**!pip install <tên thư viện>**  \n",
    "\n",
    "hoặc :\n",
    "\n",
    "**!apt-get install <tên thư viện>**\n",
    "\n",
    "---\n",
    "Để cập nhật một thư viện lên phiên bản cao hơn sử dụng lệnh:\n",
    "\n",
    "**!pip install --user <tên thư viện> --upgrade**"
   ]
  },
  {
   "cell_type": "code",
   "execution_count": 47,
   "metadata": {
    "colab": {},
    "colab_type": "code",
    "id": "smBaGLdh3X7B"
   },
   "outputs": [
    {
     "name": "stdout",
     "output_type": "stream",
     "text": [
      "Thu vien Scrapy, Version:  2.5.1\n"
     ]
    }
   ],
   "source": [
    "#Thư viện chưa được cài đặt:\n",
    "import scrapy as sc\n",
    "print(\"Thu vien Scrapy, Version: \",sc.__version__)"
   ]
  },
  {
   "cell_type": "code",
   "execution_count": 4,
   "metadata": {
    "colab": {},
    "colab_type": "code",
    "id": "NQPzi0b13h3v"
   },
   "outputs": [
    {
     "name": "stdout",
     "output_type": "stream",
     "text": [
      "Collecting scrapy\n",
      "  Downloading Scrapy-2.5.1-py2.py3-none-any.whl (254 kB)\n",
      "Requirement already satisfied: zope.interface>=4.1.3 in c:\\anaconda\\lib\\site-packages (from scrapy) (5.3.0)\n",
      "Collecting PyDispatcher>=2.0.5\n",
      "  Downloading PyDispatcher-2.0.5.zip (47 kB)\n",
      "Collecting Twisted[http2]>=17.9.0\n",
      "  Downloading Twisted-21.7.0-py3-none-any.whl (3.1 MB)\n",
      "Collecting itemadapter>=0.1.0\n",
      "  Downloading itemadapter-0.4.0-py3-none-any.whl (10 kB)\n",
      "Collecting w3lib>=1.17.0\n",
      "  Downloading w3lib-1.22.0-py2.py3-none-any.whl (20 kB)\n",
      "Collecting cssselect>=0.9.1\n",
      "  Downloading cssselect-1.1.0-py2.py3-none-any.whl (16 kB)\n",
      "Collecting protego>=0.1.15\n",
      "  Downloading Protego-0.1.16.tar.gz (3.2 MB)\n",
      "Collecting service-identity>=16.0.0\n",
      "  Downloading service_identity-21.1.0-py2.py3-none-any.whl (12 kB)\n",
      "Requirement already satisfied: lxml>=3.5.0 in c:\\anaconda\\lib\\site-packages (from scrapy) (4.6.3)\n",
      "Collecting h2<4.0,>=3.0\n",
      "  Downloading h2-3.2.0-py2.py3-none-any.whl (65 kB)\n",
      "Collecting queuelib>=1.4.2\n",
      "  Downloading queuelib-1.6.2-py2.py3-none-any.whl (13 kB)\n",
      "Requirement already satisfied: cryptography>=2.0 in c:\\anaconda\\lib\\site-packages (from scrapy) (3.4.7)\n",
      "Collecting itemloaders>=1.0.1\n",
      "  Downloading itemloaders-1.0.4-py3-none-any.whl (11 kB)\n",
      "Collecting parsel>=1.5.0\n",
      "  Downloading parsel-1.6.0-py2.py3-none-any.whl (13 kB)\n",
      "Requirement already satisfied: pyOpenSSL>=16.2.0 in c:\\anaconda\\lib\\site-packages (from scrapy) (20.0.1)\n",
      "Requirement already satisfied: cffi>=1.12 in c:\\anaconda\\lib\\site-packages (from cryptography>=2.0->scrapy) (1.14.5)\n",
      "Requirement already satisfied: pycparser in c:\\anaconda\\lib\\site-packages (from cffi>=1.12->cryptography>=2.0->scrapy) (2.20)\n",
      "Collecting hpack<4,>=3.0\n",
      "  Downloading hpack-3.0.0-py2.py3-none-any.whl (38 kB)\n",
      "Collecting hyperframe<6,>=5.2.0\n",
      "  Downloading hyperframe-5.2.0-py2.py3-none-any.whl (12 kB)\n",
      "Collecting jmespath>=0.9.5\n",
      "  Downloading jmespath-0.10.0-py2.py3-none-any.whl (24 kB)\n",
      "Requirement already satisfied: six>=1.6.0 in c:\\anaconda\\lib\\site-packages (from parsel>=1.5.0->scrapy) (1.15.0)\n",
      "Requirement already satisfied: attrs>=19.1.0 in c:\\anaconda\\lib\\site-packages (from service-identity>=16.0.0->scrapy) (20.3.0)\n",
      "Collecting pyasn1\n",
      "  Downloading pyasn1-0.4.8-py2.py3-none-any.whl (77 kB)\n",
      "Collecting pyasn1-modules\n",
      "  Downloading pyasn1_modules-0.2.8-py2.py3-none-any.whl (155 kB)\n",
      "Collecting Automat>=0.8.0\n",
      "  Downloading Automat-20.2.0-py2.py3-none-any.whl (31 kB)\n",
      "Requirement already satisfied: typing-extensions>=3.6.5 in c:\\anaconda\\lib\\site-packages (from Twisted[http2]>=17.9.0->scrapy) (3.7.4.3)\n",
      "Collecting constantly>=15.1\n",
      "  Downloading constantly-15.1.0-py2.py3-none-any.whl (7.9 kB)\n",
      "Collecting hyperlink>=17.1.1\n",
      "  Downloading hyperlink-21.0.0-py2.py3-none-any.whl (74 kB)\n",
      "Collecting incremental>=21.3.0\n",
      "  Downloading incremental-21.3.0-py2.py3-none-any.whl (15 kB)\n",
      "Collecting twisted-iocpsupport~=1.0.0\n",
      "  Downloading twisted_iocpsupport-1.0.2-cp38-cp38-win_amd64.whl (45 kB)\n",
      "Collecting priority<2.0,>=1.1.0\n",
      "  Downloading priority-1.3.0-py2.py3-none-any.whl (11 kB)\n",
      "Requirement already satisfied: idna>=2.5 in c:\\anaconda\\lib\\site-packages (from hyperlink>=17.1.1->Twisted[http2]>=17.9.0->scrapy) (2.10)\n",
      "Requirement already satisfied: setuptools in c:\\anaconda\\lib\\site-packages (from zope.interface>=4.1.3->scrapy) (52.0.0.post20210125)\n",
      "Building wheels for collected packages: protego, PyDispatcher\n",
      "  Building wheel for protego (setup.py): started\n",
      "  Building wheel for protego (setup.py): finished with status 'done'\n",
      "  Created wheel for protego: filename=Protego-0.1.16-py3-none-any.whl size=7764 sha256=e17e2347842f0714f4ea30c968da3c2dc0a96ee3d3c55214d533a5addaa16efc\n",
      "  Stored in directory: c:\\users\\dell 7559\\appdata\\local\\pip\\cache\\wheels\\91\\64\\36\\bd0d11306cb22a78c7f53d603c7eb74ebb6c211703bc40b686\n",
      "  Building wheel for PyDispatcher (setup.py): started\n",
      "  Building wheel for PyDispatcher (setup.py): finished with status 'done'\n",
      "  Created wheel for PyDispatcher: filename=PyDispatcher-2.0.5-py3-none-any.whl size=12547 sha256=b1a30d715b41abda179c758f3e82190ab4b55b56b476c30b1efaf8cc533231ab\n",
      "  Stored in directory: c:\\users\\dell 7559\\appdata\\local\\pip\\cache\\wheels\\3c\\31\\7f\\d7d7b5f0b9bad841ed856138ff0c5ee2bf2e04dbeb413097c8\n",
      "Successfully built protego PyDispatcher\n",
      "Installing collected packages: w3lib, twisted-iocpsupport, pyasn1, incremental, hyperlink, hyperframe, hpack, cssselect, constantly, Automat, Twisted, pyasn1-modules, priority, parsel, jmespath, itemadapter, h2, service-identity, queuelib, PyDispatcher, protego, itemloaders, scrapy\n",
      "Successfully installed Automat-20.2.0 PyDispatcher-2.0.5 Twisted-21.7.0 constantly-15.1.0 cssselect-1.1.0 h2-3.2.0 hpack-3.0.0 hyperframe-5.2.0 hyperlink-21.0.0 incremental-21.3.0 itemadapter-0.4.0 itemloaders-1.0.4 jmespath-0.10.0 parsel-1.6.0 priority-1.3.0 protego-0.1.16 pyasn1-0.4.8 pyasn1-modules-0.2.8 queuelib-1.6.2 scrapy-2.5.1 service-identity-21.1.0 twisted-iocpsupport-1.0.2 w3lib-1.22.0\n"
     ]
    }
   ],
   "source": [
    "#Cài đặt thư viện scrapy vào hệ thống:\n",
    "!pip install scrapy"
   ]
  },
  {
   "cell_type": "code",
   "execution_count": null,
   "metadata": {},
   "outputs": [],
   "source": [
    "#Update thư viện\n",
    "\n",
    "!pip install --user <ten thu vien > --upgrade"
   ]
  },
  {
   "cell_type": "markdown",
   "metadata": {
    "colab_type": "text",
    "id": "TF7j-maO6XfF"
   },
   "source": [
    "## II) LÀM VIỆC VỚI THƯ VIỆN NUMPY"
   ]
  },
  {
   "cell_type": "markdown",
   "metadata": {
    "colab_type": "text",
    "id": "ksVfGFNt6zzJ"
   },
   "source": [
    "### II.1) KHỞI TẠO MẢNG VỚI NUMPY\n",
    "---"
   ]
  },
  {
   "cell_type": "markdown",
   "metadata": {},
   "source": [
    "### II.1.1 Khởi tạo mảng 1D, 2D, 3D\n",
    "---\n",
    "#### a) Mảng 1 chiều (1D)"
   ]
  },
  {
   "cell_type": "code",
   "execution_count": 5,
   "metadata": {
    "scrolled": true
   },
   "outputs": [
    {
     "name": "stdout",
     "output_type": "stream",
     "text": [
      "[1 2 5 7 0 8]\n",
      "Loại dữ liệu của biến a: <class 'numpy.ndarray'>\n",
      "Kiểu dữ liệu của phần tử trong mảng a: int32\n",
      "Kích thước của mảng a: (6,)\n",
      "Số phần tử của mảng a: 6\n",
      "Số chiều của mảng a: 1\n"
     ]
    }
   ],
   "source": [
    "#Khởi tạo mảng 1 chiều với thư viên Numpy\n",
    "import numpy as np\n",
    "\n",
    "#Tạo mảng 1 chiều (1D) - row\n",
    "a = np.array([1, 2, 5, 7, 0, 8])\n",
    "\n",
    "print(a)\n",
    "print(\"Loại dữ liệu của biến a:\", type(a))\n",
    "print(\"Kiểu dữ liệu của phần tử trong mảng a:\", a.dtype)\n",
    "print(\"Kích thước của mảng a:\", a.shape)\n",
    "print(\"Số phần tử của mảng a:\", a.size)\n",
    "print(\"Số chiều của mảng a:\", a.ndim)"
   ]
  },
  {
   "cell_type": "code",
   "execution_count": 1,
   "metadata": {},
   "outputs": [
    {
     "name": "stdout",
     "output_type": "stream",
     "text": [
      "[1 2 3 4 5 6]\n"
     ]
    }
   ],
   "source": [
    "#gõ lại code\n",
    "import numpy as np\n",
    "a = np.array ([1,2,3,4,5,6])\n",
    "\n",
    "print(a);\n"
   ]
  },
  {
   "cell_type": "code",
   "execution_count": 7,
   "metadata": {},
   "outputs": [
    {
     "name": "stdout",
     "output_type": "stream",
     "text": [
      "float64\n"
     ]
    }
   ],
   "source": [
    "b = np.array([5.5, 7.1, 8.0, 9])\n",
    "print(b.dtype)"
   ]
  },
  {
   "cell_type": "code",
   "execution_count": 8,
   "metadata": {},
   "outputs": [
    {
     "name": "stdout",
     "output_type": "stream",
     "text": [
      "[[40 79 13 31]\n",
      " [52 20 96 82]\n",
      " [78 68 41 49]\n",
      " [70 97 19 57]]\n"
     ]
    }
   ],
   "source": [
    "import numpy as np\n",
    "a = np.random.randint(0,100,(4,4))\n",
    "print(a)"
   ]
  },
  {
   "cell_type": "code",
   "execution_count": 8,
   "metadata": {},
   "outputs": [
    {
     "name": "stdout",
     "output_type": "stream",
     "text": [
      "Danh sách list_a: [7.5, 6, 5, 7, 12, 1, 'Nam']\n",
      "<class 'list'>\n",
      "Mảng array_a: ['7.5' '6' '5' '7' '12' '1' 'Nam']\n",
      "Loại dữ liệu của biến array_a: <class 'numpy.ndarray'>\n",
      "Kiểu dữ liệu của phần tử trong mảng array_a: <U32\n",
      "Kích thước của mảng array_a: (7,)\n",
      "Số phần tử của mảng array_a: 7\n",
      "Số chiều của mảng array_a: 1\n"
     ]
    }
   ],
   "source": [
    "import numpy as np\n",
    "#Chuyển đổi từ biến kiểu list sang biến mảng\n",
    "list_a = [7.5, 6, 5, 7, 12, 1, 'Nam']\n",
    "print(\"Danh sách list_a:\", list_a)\n",
    "print(type(list_a))\n",
    "\n",
    "\n",
    "#chuyển sang kiểu array\n",
    "array_a = np.array(list_a)\n",
    "\n",
    "print(\"Mảng array_a:\", array_a)\n",
    "print(\"Loại dữ liệu của biến array_a:\", type(array_a))\n",
    "print(\"Kiểu dữ liệu của phần tử trong mảng array_a:\", array_a.dtype)\n",
    "print(\"Kích thước của mảng array_a:\", array_a.shape)\n",
    "print(\"Số phần tử của mảng array_a:\", array_a.size)\n",
    "print(\"Số chiều của mảng array_a:\", array_a.ndim)"
   ]
  },
  {
   "cell_type": "markdown",
   "metadata": {},
   "source": [
    "#### b) Mảng 2 chiều (2D - Ma trận)"
   ]
  },
  {
   "cell_type": "code",
   "execution_count": 6,
   "metadata": {},
   "outputs": [
    {
     "name": "stdout",
     "output_type": "stream",
     "text": [
      "[[ 4  5  6]\n",
      " [ 1  2  3]\n",
      " [ 7  8 10]\n",
      " [11  0  8]]\n",
      "Loại dữ liệu của biến b: <class 'numpy.ndarray'>\n",
      "Kiểu dữ liệu của phần tử trong mảng b: int32\n",
      "Kích thước của mảng b: (4, 3)\n",
      "Số phần tử của mảng b: 12\n",
      "Số chiều của mảng b: 2\n"
     ]
    }
   ],
   "source": [
    "#Gọi thư viện numpy\n",
    "import numpy as np\n",
    "\n",
    "#Tạo mảng 2 chiều (2D - Ma trận)\n",
    "b = np.array([(4, 5, 6),(1, 2, 3),(7,8,10),(11, 0, 8)])\n",
    "\n",
    "print(b)\n",
    "print(\"Loại dữ liệu của biến b:\", type(b))\n",
    "print(\"Kiểu dữ liệu của phần tử trong mảng b:\", b.dtype)\n",
    "print(\"Kích thước của mảng b:\", b.shape)\n",
    "print(\"Số phần tử của mảng b:\", b.size)\n",
    "print(\"Số chiều của mảng b:\", b.ndim)"
   ]
  },
  {
   "cell_type": "markdown",
   "metadata": {},
   "source": [
    "#### c) Mảng 3 chiều (3D)"
   ]
  },
  {
   "cell_type": "code",
   "execution_count": 9,
   "metadata": {},
   "outputs": [
    {
     "name": "stdout",
     "output_type": "stream",
     "text": [
      "[[[2 4 0 6]\n",
      "  [4 7 5 6]]\n",
      "\n",
      " [[0 3 2 1]\n",
      "  [9 4 5 6]]\n",
      "\n",
      " [[5 8 6 4]\n",
      "  [1 4 6 8]]]\n",
      "Loại dữ liệu của biến c: <class 'numpy.ndarray'>\n",
      "Kiểu dữ liệu của phần tử trong mảng c: int32\n",
      "Kích thước của mảng c: (3, 2, 4)\n",
      "Số phần tử của mảng c: 24\n",
      "Số chiều của mảng c: 3\n"
     ]
    }
   ],
   "source": [
    "#Gọi thư viện numpy\n",
    "import numpy as np\n",
    "\n",
    "#Tạo mảng 3 chiều (3D)\n",
    "c = np.array([[(2, 4, 0, 6),(4, 7, 5, 6)],\n",
    "             [(0, 3, 2, 1),(9, 4, 5, 6)],\n",
    "             [(5, 8, 6, 4),(1, 4, 6, 8)]])\n",
    "\n",
    "print(c)\n",
    "print(\"Loại dữ liệu của biến c:\", type(b))\n",
    "print(\"Kiểu dữ liệu của phần tử trong mảng c:\", c.dtype)\n",
    "print(\"Kích thước của mảng c:\", c.shape)\n",
    "print(\"Số phần tử của mảng c:\", c.size)\n",
    "print(\"Số chiều của mảng c:\", c.ndim)"
   ]
  },
  {
   "cell_type": "markdown",
   "metadata": {},
   "source": [
    "### II.1.2) Khởi tạo mảng với các hàm sẵn có của Numpy\n",
    "---"
   ]
  },
  {
   "cell_type": "code",
   "execution_count": 10,
   "metadata": {},
   "outputs": [
    {
     "name": "stdout",
     "output_type": "stream",
     "text": [
      "[[0. 0. 0. 0. 0.]\n",
      " [0. 0. 0. 0. 0.]\n",
      " [0. 0. 0. 0. 0.]\n",
      " [0. 0. 0. 0. 0.]\n",
      " [0. 0. 0. 0. 0.]\n",
      " [0. 0. 0. 0. 0.]\n",
      " [0. 0. 0. 0. 0.]\n",
      " [0. 0. 0. 0. 0.]\n",
      " [0. 0. 0. 0. 0.]\n",
      " [0. 0. 0. 0. 0.]]\n",
      "Kiểu dữ liệu trong mảng array_zeros: float64\n",
      "Kích thước của mảng array_zeros: (10, 5)\n",
      "Số phần tử của mảng array_zeros: 50\n",
      "Số chiều của mảng array_zeros: 2\n"
     ]
    }
   ],
   "source": [
    "# Phương thức zeros: Tạo ma trận 0 kích thước 5 hàng x 3 cột\n",
    "import numpy as np\n",
    "\n",
    "array_zeros = np.zeros((10,5))\n",
    "\n",
    "print(array_zeros)\n",
    "print(\"Kiểu dữ liệu trong mảng array_zeros:\", array_zeros.dtype)\n",
    "print(\"Kích thước của mảng array_zeros:\", array_zeros.shape)\n",
    "print(\"Số phần tử của mảng array_zeros:\", array_zeros.size)\n",
    "print(\"Số chiều của mảng array_zeros:\", array_zeros.ndim)"
   ]
  },
  {
   "cell_type": "code",
   "execution_count": 6,
   "metadata": {},
   "outputs": [
    {
     "name": "stderr",
     "output_type": "stream",
     "text": [
      "<ipython-input-6-2cff021c854b>:4: DeprecationWarning: `np.int` is a deprecated alias for the builtin `int`. To silence this warning, use `int` by itself. Doing this will not modify any behavior and is safe. When replacing `np.int`, you may wish to use e.g. `np.int64` or `np.int32` to specify the precision. If you wish to review your current use, check the release note link for additional information.\n",
      "Deprecated in NumPy 1.20; for more details and guidance: https://numpy.org/devdocs/release/1.20.0-notes.html#deprecations\n",
      "  vector_zeros = np.zeros(5,3,3,dtype=np.int)\n"
     ]
    },
    {
     "ename": "TypeError",
     "evalue": "Cannot interpret '3' as a data type",
     "output_type": "error",
     "traceback": [
      "\u001b[1;31m---------------------------------------------------------------------------\u001b[0m",
      "\u001b[1;31mTypeError\u001b[0m                                 Traceback (most recent call last)",
      "\u001b[1;32m<ipython-input-6-2cff021c854b>\u001b[0m in \u001b[0;36m<module>\u001b[1;34m\u001b[0m\n\u001b[0;32m      2\u001b[0m \u001b[1;31m#Mặc định kiểu dữ liệu các phần tử là float\u001b[0m\u001b[1;33m\u001b[0m\u001b[1;33m\u001b[0m\u001b[1;33m\u001b[0m\u001b[0m\n\u001b[0;32m      3\u001b[0m \u001b[1;32mimport\u001b[0m \u001b[0mnumpy\u001b[0m \u001b[1;32mas\u001b[0m \u001b[0mnp\u001b[0m\u001b[1;33m\u001b[0m\u001b[1;33m\u001b[0m\u001b[0m\n\u001b[1;32m----> 4\u001b[1;33m \u001b[0mvector_zeros\u001b[0m \u001b[1;33m=\u001b[0m \u001b[0mnp\u001b[0m\u001b[1;33m.\u001b[0m\u001b[0mzeros\u001b[0m\u001b[1;33m(\u001b[0m\u001b[1;36m5\u001b[0m\u001b[1;33m,\u001b[0m\u001b[1;36m3\u001b[0m\u001b[1;33m,\u001b[0m\u001b[1;36m3\u001b[0m\u001b[1;33m,\u001b[0m\u001b[0mdtype\u001b[0m\u001b[1;33m=\u001b[0m\u001b[0mnp\u001b[0m\u001b[1;33m.\u001b[0m\u001b[0mint\u001b[0m\u001b[1;33m)\u001b[0m\u001b[1;33m\u001b[0m\u001b[1;33m\u001b[0m\u001b[0m\n\u001b[0m\u001b[0;32m      5\u001b[0m \u001b[1;31m# vector_zeros = np.zeros((10,5),dtype=np.float)\u001b[0m\u001b[1;33m\u001b[0m\u001b[1;33m\u001b[0m\u001b[1;33m\u001b[0m\u001b[0m\n",
      "\u001b[1;31mTypeError\u001b[0m: Cannot interpret '3' as a data type"
     ]
    }
   ],
   "source": [
    "#Thuộc tính dtype xác định kiểu dữ liệu của phần tử muốn tạo\n",
    "#Mặc định kiểu dữ liệu các phần tử là float\n",
    "import numpy as np\n",
    "vector_zeros = np.zeros(5,3,3,dtype=np.int)\n",
    "# vector_zeros = np.zeros((10,5),dtype=np.float)"
   ]
  },
  {
   "cell_type": "code",
   "execution_count": null,
   "metadata": {},
   "outputs": [],
   "source": [
    "# Phương thức ones: Tạo ma trận 1 kích thước 3 hàng x 5 cột\n",
    "import numpy as np\n",
    "\n",
    "array_one = np.ones((3, 5))\n",
    "\n",
    "print(array_one)\n",
    "print(\"Kiểu dữ liệu trong mảng array_one:\", array_one.dtype)\n",
    "print(\"Kích thước của mảng array_one:\", array_one.shape)\n",
    "print(\"Số phần tử của mảng array_one:\", array_one.size)\n",
    "print(\"Số chiều của mảng array_one:\", array_one.ndim)"
   ]
  },
  {
   "cell_type": "code",
   "execution_count": null,
   "metadata": {},
   "outputs": [],
   "source": [
    "#Phương thức eye: Tạo ma trận đơn vị cấp 5\n",
    "import numpy as np\n",
    "array_eye = np.eye(10)\n",
    "\n",
    "print(array_eye)\n",
    "print(\"Kiểu dữ liệu của phần tử trong mảng array_eye:\", array_eye.dtype)\n",
    "print(\"Kích thước của mảng array_eye:\", array_eye.shape)\n",
    "print(\"Số phần tử của mảng array_eye:\", array_eye.size)\n",
    "print(\"Số chiều của mảng array_eye:\", array_eye.ndim)"
   ]
  },
  {
   "cell_type": "code",
   "execution_count": 15,
   "metadata": {},
   "outputs": [
    {
     "name": "stdout",
     "output_type": "stream",
     "text": [
      "[0.21310184 0.61871527 0.416835   0.48430437 0.92513408 0.07877844\n",
      " 0.68596625 0.65979554 0.46621331 0.14177332]\n",
      "Kiểu dữ liệu của phần tử trong mảng array_random: float64\n",
      "Kích thước của mảng array_random: (10,)\n",
      "Số phần tử của mảng array_random: 10\n",
      "Số chiều của mảng array_random: 1\n"
     ]
    }
   ],
   "source": [
    "#Phương thức random: Tạo một ma trận (7x5) các phần tử ngẫu nhiên [0,1]\n",
    "import numpy as np\n",
    "array_random = np.random.random(10)\n",
    "\n",
    "print(array_random)\n",
    "print(\"Kiểu dữ liệu của phần tử trong mảng array_random:\", array_random.dtype)\n",
    "print(\"Kích thước của mảng array_random:\", array_random.shape)\n",
    "print(\"Số phần tử của mảng array_random:\", array_random.size)\n",
    "print(\"Số chiều của mảng array_random:\", array_random.ndim)"
   ]
  },
  {
   "cell_type": "code",
   "execution_count": null,
   "metadata": {},
   "outputs": [],
   "source": [
    "#Phương thức randint:\n",
    "#Tạo một vector các phần tử là số nguyên ngẫu nhiên\n",
    "import numpy as np\n",
    "vector_a = np.random.randint(10, 30, 6)\n",
    "print(vector_a)\n",
    "print('---------------------------------------------')\n",
    "#Tạo một ma trận (3,5) các phần tử là số nguyên ngẫu nhiên\n",
    "import numpy as np\n",
    "array_a = np.random.randint(10, 30, (3,5))\n",
    "print(array_a)"
   ]
  },
  {
   "cell_type": "code",
   "execution_count": null,
   "metadata": {},
   "outputs": [],
   "source": [
    "#Phương thức arange(a, b, steps): \n",
    "#Tạo vector:\n",
    "# Phần tử đầu tiên = a, \n",
    "# kết thúc <b, \n",
    "# mỗi phần tử cách nhau một khoảng = steps\n",
    "d = np.arange(1, 15, 2)\n",
    "print('Vector d:', d)\n",
    "print(\"Số phần tử của vector d:\", d.size)\n",
    "\n",
    "print('----------------------------------------------------------------')\n",
    "#Phương thức linspace(a, b, num)\n",
    "#Tạo vector:\n",
    "#Phần tử đầu tiên  = a, \n",
    "#Phần tử kết thúc  = b, \n",
    "#Số phần tử của ma trận = num\n",
    "f = np.linspace(1,15,9)\n",
    "print('Vector f:', f)\n",
    "print(\"Số phần tử của vector f:\", f.size)\n"
   ]
  },
  {
   "cell_type": "code",
   "execution_count": null,
   "metadata": {},
   "outputs": [],
   "source": [
    "# Create a 3x5 array filled with 3.14\n",
    "np.full((5, 5), 3.1515926535)"
   ]
  },
  {
   "cell_type": "markdown",
   "metadata": {},
   "source": [
    "### II.1.3) Đọc dữ liệu lưu trữ từ file .txt vào mảng\n",
    "---"
   ]
  },
  {
   "cell_type": "code",
   "execution_count": 2,
   "metadata": {
    "colab": {},
    "colab_type": "code",
    "id": "tu9CMzc767_Q"
   },
   "outputs": [
    {
     "name": "stderr",
     "output_type": "stream",
     "text": [
      "<ipython-input-2-04ff80f2d4be>:5: DeprecationWarning: `np.int` is a deprecated alias for the builtin `int`. To silence this warning, use `int` by itself. Doing this will not modify any behavior and is safe. When replacing `np.int`, you may wish to use e.g. `np.int64` or `np.int32` to specify the precision. If you wish to review your current use, check the release note link for additional information.\n",
      "Deprecated in NumPy 1.20; for more details and guidance: https://numpy.org/devdocs/release/1.20.0-notes.html#deprecations\n",
      "  diem_2a = np.loadtxt(path,delimiter=',',dtype=np.int)\n"
     ]
    },
    {
     "name": "stdout",
     "output_type": "stream",
     "text": [
      "[[ 2  4  3  7  5  6  5  6  8  9  3  6  1  9  8  7  3  3  9  5  1  6  5  1\n",
      "   4  6  7  1  1  1]\n",
      " [ 3  5  3 10  9  1  9  8  3  1  6  0  7 10  8  5  2  7  7  1  1  6  1  6\n",
      "   3  0  2  2  1  6]\n",
      " [ 1 10  4  9  6  9  0  2  3  1  8  6  8  4  2  9  2  9  5  0  4  1  7  3\n",
      "   8  9  8  9  9  9]\n",
      " [ 6  3  0  8  3  7  7  2  6  8  7  3  4  1  5  9  1  0  2 10  4  6  8  6\n",
      "   6 10  3  1  4  5]\n",
      " [ 4  3  6  7  4  5  2  6  9  4  3  9  9  4  5  7  2 10  9  4  0  5  3  1\n",
      "   4  5  6  8  2  3]\n",
      " [ 2  3  8 10  4  5  9  5  4  7 10  1  8  4  3  9  6  3  6  7  4  7  3  5\n",
      "   9  5  7  5  8  1]\n",
      " [ 9  9  1 10  9  9  5  9  6  3  9  5  1 10  7 10  2  8  8  1  8  4  5  4\n",
      "   9  6  7  2  9  2]\n",
      " [ 8  8  7  8  6  7  7  8  6  7  8  6  7  6  8  8  7  6  8  8  8  7  8  8\n",
      "   8  6  8  7  7  8]\n",
      " [ 6  7  8  9 10  9  2  2  6  1 10  9  6  3  9  5  9  8  1  1  8  8  8  6\n",
      "   6  8  7  3  8  1]\n",
      " [ 7  8  7  8  6 10 10  6  8 10  8  9  8  8  5 10  8  7  8  7  9  9  8  7\n",
      "   7  7 10  8  9  7]]\n",
      "Kiểu dữ liệu của phần tử trong mảng diem_2a: int32\n",
      "Kích thước của mảng diem_2a: (10, 30)\n",
      "Số phần tử của mảng diem_2a: 300\n",
      "Số chiều của mảng diem_2a: 2\n"
     ]
    }
   ],
   "source": [
    "import numpy as np\n",
    "\n",
    "#Đọc dữ liệu từ file Diem_2A.txt\n",
    "path  ='D:\\python\\Diem_2A.txt'\n",
    "diem_2a = np.loadtxt(path,delimiter=',',dtype=np.int)\n",
    "\n",
    "print(diem_2a)\n",
    "print(\"Kiểu dữ liệu của phần tử trong mảng diem_2a:\", diem_2a.dtype)\n",
    "print(\"Kích thước của mảng diem_2a:\", diem_2a.shape)\n",
    "print(\"Số phần tử của mảng diem_2a:\", diem_2a.size)\n",
    "print(\"Số chiều của mảng diem_2a:\", diem_2a.ndim)"
   ]
  },
  {
   "cell_type": "markdown",
   "metadata": {
    "colab_type": "text",
    "id": "9VQ7U18w_XMr"
   },
   "source": [
    "### II.2) CÁC THAO TÁC VỚI MẢNG\n",
    "---\n",
    "### II.2.1 Hàm quan sát mảng"
   ]
  },
  {
   "cell_type": "code",
   "execution_count": 14,
   "metadata": {
    "colab": {
     "base_uri": "https://localhost:8080/",
     "height": 35
    },
    "colab_type": "code",
    "id": "MnZc42FA_b43",
    "outputId": "dbee536f-b336-4155-b8fd-e66068cd8b2f"
   },
   "outputs": [
    {
     "ename": "NameError",
     "evalue": "name 'diem_2a' is not defined",
     "output_type": "error",
     "traceback": [
      "\u001b[1;31m---------------------------------------------------------------------------\u001b[0m",
      "\u001b[1;31mNameError\u001b[0m                                 Traceback (most recent call last)",
      "\u001b[1;32m<ipython-input-14-ff3c189eed11>\u001b[0m in \u001b[0;36m<module>\u001b[1;34m\u001b[0m\n\u001b[0;32m      1\u001b[0m \u001b[1;31m#a.shape: Cho biết kích thước của mảng a:\u001b[0m\u001b[1;33m\u001b[0m\u001b[1;33m\u001b[0m\u001b[1;33m\u001b[0m\u001b[0m\n\u001b[1;32m----> 2\u001b[1;33m \u001b[0mprint\u001b[0m\u001b[1;33m(\u001b[0m\u001b[1;34m'kích thước của mảng diem_2a:'\u001b[0m\u001b[1;33m,\u001b[0m \u001b[0mdiem_2a\u001b[0m\u001b[1;33m.\u001b[0m\u001b[0mshape\u001b[0m\u001b[1;33m)\u001b[0m\u001b[1;33m\u001b[0m\u001b[1;33m\u001b[0m\u001b[0m\n\u001b[0m",
      "\u001b[1;31mNameError\u001b[0m: name 'diem_2a' is not defined"
     ]
    }
   ],
   "source": [
    "#a.shape: Cho biết kích thước của mảng a:\n",
    "print('kích thước của mảng diem_2a:', diem_2a.shape)"
   ]
  },
  {
   "cell_type": "code",
   "execution_count": null,
   "metadata": {
    "colab": {},
    "colab_type": "code",
    "id": "s6N42V5lArDz"
   },
   "outputs": [],
   "source": [
    "#a.ndim: Cho biết Số chiều của mảng a:\n",
    "print('Số chiều của mảng diem_2a:', diem_2a.ndim)"
   ]
  },
  {
   "cell_type": "code",
   "execution_count": null,
   "metadata": {
    "colab": {},
    "colab_type": "code",
    "id": "RagL-6PtA4hU"
   },
   "outputs": [],
   "source": [
    "#a.size: Cho biết số phần tử của mảng a:\n",
    "print('Số phần tử của mảng diem_2a: ', diem_2a.size)"
   ]
  },
  {
   "cell_type": "code",
   "execution_count": null,
   "metadata": {
    "colab": {},
    "colab_type": "code",
    "id": "POcty5tOBriV"
   },
   "outputs": [],
   "source": [
    "#a.dtype: Cho biết kiểu dữ liệu của các phần tử trong mảng a\n",
    "print('Kiểu dữ liệu của các phần tử trong mảng diem_2a:', diem_2a.dtype)"
   ]
  },
  {
   "cell_type": "markdown",
   "metadata": {},
   "source": [
    "### II.2.2) Chuyển đổi kiểu dữ liệu các phần tử trong mảng\n",
    "---"
   ]
  },
  {
   "cell_type": "code",
   "execution_count": null,
   "metadata": {
    "colab": {},
    "colab_type": "code",
    "id": "Yop1EpdECAiy"
   },
   "outputs": [],
   "source": [
    "#a.astype(kiểu mới): Chuyển đổi kiểu dữ liệu của các phần tử\n",
    "a_float = np.linspace(0,15,11)\n",
    "print(a_float)\n",
    "print('Kiểu Dữ liệu: ', a_float.dtype)\n",
    "print('-----------------------------------------')\n",
    "#Chuyển từ kiểu float --> int\n",
    "a_int = a_float.astype(np.int16)\n",
    "print(a_int)\n",
    "print('Dữ liệu sau khi chuyển: ', a_int.dtype)"
   ]
  },
  {
   "cell_type": "code",
   "execution_count": null,
   "metadata": {
    "colab": {},
    "colab_type": "code",
    "id": "GiVRDC-ZN8c_"
   },
   "outputs": [],
   "source": [
    "#Chuyển từ kiểu float --> int\n",
    "a_str = a_int.astype(np.str)\n",
    "print(a_str)\n",
    "print('Dữ liệu sau khi chuyển: ', a_str.dtype)\n",
    "print('-----------------------------------------')\n",
    "#Chuyển từ kiểu float --> boolean\n",
    "a_bol = a_int.astype(np.bool)\n",
    "print(a_bol)\n",
    "print('Dữ liệu sau khi chuyển: ', a_bol.dtype)"
   ]
  },
  {
   "cell_type": "markdown",
   "metadata": {
    "colab_type": "text",
    "id": "VgmurRtbSWm1"
   },
   "source": [
    "### II.2.3) Truy cập tới các phần tử của mảng\n",
    "---"
   ]
  },
  {
   "cell_type": "markdown",
   "metadata": {
    "colab_type": "text",
    "id": "Ahun79u0aXz5"
   },
   "source": [
    "#### a) Truy cập tới các phần tử của Vector (1D)\n",
    "---\n"
   ]
  },
  {
   "cell_type": "code",
   "execution_count": 15,
   "metadata": {
    "colab": {
     "base_uri": "https://localhost:8080/",
     "height": 34
    },
    "colab_type": "code",
    "id": "K45TlS72Sc1y",
    "outputId": "00ac1b04-04aa-4523-8b30-fde4d35e9f99",
    "scrolled": true
   },
   "outputs": [
    {
     "name": "stdout",
     "output_type": "stream",
     "text": [
      "các phần tử của Vector a:\n",
      " [ 3  5  3 10  9  1  9  8  3  1]\n",
      "------------------------------------------------\n",
      "phần tử đầu tiên: 3\n",
      "phần tử thứ 3: 1\n",
      "phần tử cuối cùng: 3\n"
     ]
    }
   ],
   "source": [
    "#Truy cập tới một phần tử của Vector: a[index]\n",
    "#Note: index phần tử đầu tiên 0\n",
    "#    : index phần tử cuối cùng -1\n",
    "a = np.array([3,  5,  3, 10,  9,  1,  9,  8,  3,  1])\n",
    "\n",
    "print('các phần tử của Vector a:\\n', a)\n",
    "print('------------------------------------------------')\n",
    "print('phần tử đầu tiên:', a[0])\n",
    "print('phần tử thứ 3:', a[5])\n",
    "print('phần tử cuối cùng:', a[-2])"
   ]
  },
  {
   "cell_type": "code",
   "execution_count": 16,
   "metadata": {
    "colab": {
     "base_uri": "https://localhost:8080/",
     "height": 69
    },
    "colab_type": "code",
    "id": "zBqDxsoeUfa3",
    "outputId": "6921b752-2bb1-496d-e5b5-67918ba38fa4",
    "scrolled": true
   },
   "outputs": [
    {
     "name": "stdout",
     "output_type": "stream",
     "text": [
      "các phần tử của Vector a:\n",
      " [ 3  5  3 10  9  1  9  8  3  1]\n",
      "------------------------------------------------\n",
      "3 Phần tử đầu tiên: [3 5 3]\n",
      "Từ phần tử thứ 5 tới hết: [1 9 8 3 1]\n",
      "Từ phần tử 2 đến phần tử <6 của vector: [ 3 10  9  1]\n"
     ]
    }
   ],
   "source": [
    "#Truy cập tới nhiều phần tử của Vector: a[index1:index2]\n",
    "print('các phần tử của Vector a:\\n', a)\n",
    "print('------------------------------------------------')\n",
    "print('3 Phần tử đầu tiên:', a[:3])\n",
    "print('Từ phần tử thứ 5 tới hết:', a[5:])\n",
    "print('Từ phần tử 2 đến phần tử <6 của vector:',a[2:6])"
   ]
  },
  {
   "cell_type": "markdown",
   "metadata": {},
   "source": [
    "## Lưu ý: Thay đổi giá trị của một phần tử trong mảng\n",
    "---\n"
   ]
  },
  {
   "cell_type": "code",
   "execution_count": 17,
   "metadata": {},
   "outputs": [
    {
     "name": "stdout",
     "output_type": "stream",
     "text": [
      "[ 3  5  3 10  9  1  9  8  3  1]\n"
     ]
    }
   ],
   "source": [
    "#Mảng a ban đầu\n",
    "print(a)"
   ]
  },
  {
   "cell_type": "code",
   "execution_count": 18,
   "metadata": {},
   "outputs": [
    {
     "data": {
      "text/plain": [
       "array([3, 5, 3, 5, 9, 1, 9, 8, 3, 1])"
      ]
     },
     "execution_count": 18,
     "metadata": {},
     "output_type": "execute_result"
    }
   ],
   "source": [
    "#Cập nhật lại giá trị của phần tử thứ 3 trong mảng\n",
    "a[3]=5\n",
    "a"
   ]
  },
  {
   "cell_type": "code",
   "execution_count": 19,
   "metadata": {},
   "outputs": [
    {
     "data": {
      "text/plain": [
       "array([3, 5, 3, 5, 9, 1, 9, 8, 3, 1])"
      ]
     },
     "execution_count": 19,
     "metadata": {},
     "output_type": "execute_result"
    }
   ],
   "source": [
    "#Tạo một mảng a1 có các phần tử như của mảng a\n",
    "a1 = a\n",
    "a1"
   ]
  },
  {
   "cell_type": "code",
   "execution_count": 20,
   "metadata": {},
   "outputs": [
    {
     "data": {
      "text/plain": [
       "array([10,  5,  3,  5,  9,  1,  9,  8,  3,  1])"
      ]
     },
     "execution_count": 20,
     "metadata": {},
     "output_type": "execute_result"
    }
   ],
   "source": [
    "#Cập nhật lại giá trị đầu tiên trong mảng a1\n",
    "a1[0]=10\n",
    "a1"
   ]
  },
  {
   "cell_type": "code",
   "execution_count": 21,
   "metadata": {},
   "outputs": [
    {
     "data": {
      "text/plain": [
       "array([10,  5,  3,  5,  9,  1,  9,  8,  3,  1])"
      ]
     },
     "execution_count": 21,
     "metadata": {},
     "output_type": "execute_result"
    }
   ],
   "source": [
    "#Các phần tử trong mảng a cũng sẽ cập nhật theo\n",
    "a"
   ]
  },
  {
   "cell_type": "code",
   "execution_count": 22,
   "metadata": {},
   "outputs": [
    {
     "data": {
      "text/plain": [
       "array([10,  5,  3,  5,  9,  1,  9,  8,  3,  1])"
      ]
     },
     "execution_count": 22,
     "metadata": {},
     "output_type": "execute_result"
    }
   ],
   "source": [
    "#Để giải quyết vấn đề này, sử dụng phương thức copy()\n",
    "a2=a.copy()\n",
    "a2"
   ]
  },
  {
   "cell_type": "code",
   "execution_count": 23,
   "metadata": {},
   "outputs": [
    {
     "data": {
      "text/plain": [
       "array([5, 5, 3, 5, 9, 1, 9, 8, 3, 1])"
      ]
     },
     "execution_count": 23,
     "metadata": {},
     "output_type": "execute_result"
    }
   ],
   "source": [
    "a2[0]=5\n",
    "a2"
   ]
  },
  {
   "cell_type": "code",
   "execution_count": 24,
   "metadata": {},
   "outputs": [
    {
     "data": {
      "text/plain": [
       "array([10,  5,  3,  5,  9,  1,  9,  8,  3,  1])"
      ]
     },
     "execution_count": 24,
     "metadata": {},
     "output_type": "execute_result"
    }
   ],
   "source": [
    "a"
   ]
  },
  {
   "cell_type": "code",
   "execution_count": 25,
   "metadata": {},
   "outputs": [
    {
     "name": "stdout",
     "output_type": "stream",
     "text": [
      "[2, 4, 6, 7]\n",
      "[2, 4, 6, 7]\n"
     ]
    }
   ],
   "source": [
    "#Tương tự với biến kiểu list\n",
    "list_a=[2,4,6,7]\n",
    "list_a1=list_a.copy()\n",
    "print(list_a)\n",
    "print(list_a1)"
   ]
  },
  {
   "cell_type": "code",
   "execution_count": 26,
   "metadata": {},
   "outputs": [
    {
     "name": "stdout",
     "output_type": "stream",
     "text": [
      "[2, 4, 6, 7]\n",
      "[100, 4, 6, 7]\n"
     ]
    }
   ],
   "source": [
    "list_a1[0]=100\n",
    "print(list_a)\n",
    "print(list_a1)"
   ]
  },
  {
   "cell_type": "markdown",
   "metadata": {
    "colab_type": "text",
    "id": "yMJSnBYdaijH"
   },
   "source": [
    "#### b)Truy cập tới các phần tử của ma trận\n",
    "---\n"
   ]
  },
  {
   "cell_type": "code",
   "execution_count": 21,
   "metadata": {
    "colab": {},
    "colab_type": "code",
    "id": "O-9LAg8aVJwq"
   },
   "outputs": [
    {
     "name": "stdout",
     "output_type": "stream",
     "text": [
      "Điểm môn học đầu tiên, của học sinh đầu tiên: 2\n",
      "Điểm môn học thứ 1, của học sinh thứ 3: 10\n",
      "Điểm môn cuối cùng, của học sinh cuối cùng: 7\n",
      "--------------------------------------------------------\n",
      "Bảng điểm lớp 2A:\n",
      " [[ 2  4  3  7  5  6  5  6  8  9  3  6  1  9  8  7  3  3  9  5  1  6  5  1\n",
      "   4  6  7  1  1  1]\n",
      " [ 3  5  3 10  9  1  9  8  3  1  6  0  7 10  8  5  2  7  7  1  1  6  1  6\n",
      "   3  0  2  2  1  6]\n",
      " [ 1 10  4  9  6  9  0  2  3  1  8  6  8  4  2  9  2  9  5  0  4  1  7  3\n",
      "   8  9  8  9  9  9]\n",
      " [ 6  3  0  8  3  7  7  2  6  8  7  3  4  1  5  9  1  0  2 10  4  6  8  6\n",
      "   6 10  3  1  4  5]\n",
      " [ 4  3  6  7  4  5  2  6  9  4  3  9  9  4  5  7  2 10  9  4  0  5  3  1\n",
      "   4  5  6  8  2  3]\n",
      " [ 2  3  8 10  4  5  9  5  4  7 10  1  8  4  3  9  6  3  6  7  4  7  3  5\n",
      "   9  5  7  5  8  1]\n",
      " [ 9  9  1 10  9  9  5  9  6  3  9  5  1 10  7 10  2  8  8  1  8  4  5  4\n",
      "   9  6  7  2  9  2]\n",
      " [ 8  8  7  8  6  7  7  8  6  7  8  6  7  6  8  8  7  6  8  8  8  7  8  8\n",
      "   8  6  8  7  7  8]\n",
      " [ 6  7  8  9 10  9  2  2  6  1 10  9  6  3  9  5  9  8  1  1  8  8  8  6\n",
      "   6  8  7  3  8  1]\n",
      " [ 7  8  7  8  6 10 10  6  8 10  8  9  8  8  5 10  8  7  8  7  9  9  8  7\n",
      "   7  7 10  8  9  7]]\n"
     ]
    }
   ],
   "source": [
    "#Truy cập tới 1 phần tử của ma trận (2D): a[index_row, index_col]\n",
    "print('Điểm môn học đầu tiên, của học sinh đầu tiên:',diem_2a[0,0])\n",
    "print('Điểm môn học thứ 1, của học sinh thứ 3:',diem_2a[1,3])\n",
    "print('Điểm môn cuối cùng, của học sinh cuối cùng:',diem_2a[-1,-1])\n",
    "print('--------------------------------------------------------')\n",
    "print('Bảng điểm lớp 2A:\\n',diem_2a)"
   ]
  },
  {
   "cell_type": "code",
   "execution_count": 22,
   "metadata": {
    "colab": {
     "base_uri": "https://localhost:8080/",
     "height": 35
    },
    "colab_type": "code",
    "id": "mjICTCVBaxHP",
    "outputId": "1537a972-d2d3-4611-d845-7f32249fe55c"
   },
   "outputs": [
    {
     "name": "stdout",
     "output_type": "stream",
     "text": [
      "Điểm các môn của học sinh 5: [ 6  1  9  7  5  5  9  7  9 10]\n",
      "Điểm môn học cuối cùng của tất cả học sinh: \n",
      " [ 7  8  7  8  6 10 10  6  8 10  8  9  8  8  5 10  8  7  8  7  9  9  8  7\n",
      "  7  7 10  8  9  7]\n",
      "Bảng điểm 5 môn học đầu tiên của 10 học sinh đầu của lớp:\n",
      " [[ 2  4  3  7  5  6  5  6  8  9]\n",
      " [ 3  5  3 10  9  1  9  8  3  1]\n",
      " [ 1 10  4  9  6  9  0  2  3  1]\n",
      " [ 6  3  0  8  3  7  7  2  6  8]\n",
      " [ 4  3  6  7  4  5  2  6  9  4]]\n"
     ]
    }
   ],
   "source": [
    "#Truy cập tới nhiều phần tử trong ma trận: a[index_row1:index_row2,index_col1:index_col2]\n",
    "#Lấy điểm tất cả các môn (tất cả các hàng) của học sinh 5:\n",
    "diem_hs5 = diem_2a[:,5]\n",
    "print(\"Điểm các môn của học sinh 5:\",diem_hs5)\n",
    "\n",
    "#Lấy điểm môn học cuối cùng của tất cả học sinh (tất cả các cột) \n",
    "diem_mon = diem_2a[-1,:]\n",
    "print(\"Điểm môn học cuối cùng của tất cả học sinh: \\n\",diem_mon)\n",
    "\n",
    "#Lấy điểm 5 môn học đầu tiên của 10 học sinh đầu tiên\n",
    "diem5_hs10 = diem_2a[0:5,0:10]\n",
    "print(\"Bảng điểm 5 môn học đầu tiên của 10 học sinh đầu của lớp:\\n\",diem5_hs10)"
   ]
  },
  {
   "cell_type": "markdown",
   "metadata": {},
   "source": [
    "### II.2.4) Các phép toán trên mảng\n",
    "---"
   ]
  },
  {
   "cell_type": "code",
   "execution_count": 23,
   "metadata": {},
   "outputs": [
    {
     "name": "stdout",
     "output_type": "stream",
     "text": [
      "Mảng a:  [7 5 8 1]\n",
      "Giá trị x: 3\n",
      "Tổng mảng a + x: [10  8 11  4]\n",
      "Tổng mảng a - x: [ 4  2  5 -2]\n",
      "Tích mảng a * b: [21 15 24  3]\n",
      "Tích mảng a / b: [2.33333333 1.66666667 2.66666667 0.33333333]\n",
      "Thương nguyên mảng a // b: [2 1 2 0]\n",
      "Thương dư của mảng a % b: [1 2 2 1]\n"
     ]
    }
   ],
   "source": [
    "#Thực hiện phép toán giữa biến array và một giá trị\n",
    "a=np.array((7,5,8,1))\n",
    "print('Mảng a: ', a)\n",
    "\n",
    "x = 3\n",
    "print('Giá trị x:',x)\n",
    "\n",
    "# Các phép toán giữa array với một giá trị\n",
    "array_tong = a + x\n",
    "print(\"Tổng mảng a + x:\", array_tong)\n",
    "\n",
    "array_hieu = a - x\n",
    "print(\"Tổng mảng a - x:\", array_hieu)\n",
    "\n",
    "array_tich=a*x\n",
    "print(\"Tích mảng a * b:\", array_tich)\n",
    "\n",
    "array_thuong=a/x\n",
    "print(\"Tích mảng a / b:\", array_thuong)\n",
    "\n",
    "array_thuongnguyen=a//x\n",
    "print(\"Thương nguyên mảng a // b:\", array_thuongnguyen)\n",
    "\n",
    "array_thuongdu=a%x\n",
    "print(\"Thương dư của mảng a % b:\", array_thuongdu)"
   ]
  },
  {
   "cell_type": "code",
   "execution_count": 24,
   "metadata": {},
   "outputs": [
    {
     "name": "stdout",
     "output_type": "stream",
     "text": [
      "Mảng a:  [7 5 8 1]\n",
      "Mảng b:  [1 2 3 4]\n",
      "Tổng mảng a + b: [ 8  7 11  5]\n",
      "Tổng mảng a - b: [ 6  3  5 -3]\n",
      "Tích mảng a * b: [ 7 10 24  4]\n",
      "Tích mảng a / b: [7.         2.5        2.66666667 0.25      ]\n",
      "Thương nguyên mảng a // b: [7 2 2 0]\n",
      "Thương dư của mảng a % b: [0 1 2 1]\n"
     ]
    }
   ],
   "source": [
    "# Thực hiện các phép toán giữa 2 biến array\n",
    "# Yêu cầu: Số phần tử của hai ma trận phải bằng nhau\n",
    "a=np.array((7,5,8,1))\n",
    "print('Mảng a: ', a)\n",
    "b=np.array((1,2,3,4))\n",
    "print('Mảng b: ', b)\n",
    "\n",
    "#Các phép toán trên 2 biến array\n",
    "array_tong = a + b\n",
    "print(\"Tổng mảng a + b:\", array_tong)\n",
    "\n",
    "array_hieu = a - b\n",
    "print(\"Tổng mảng a - b:\", array_hieu)\n",
    "\n",
    "array_tich=a*b\n",
    "print(\"Tích mảng a * b:\", array_tich)\n",
    "\n",
    "array_thuong=a/b\n",
    "print(\"Tích mảng a / b:\", array_thuong)\n",
    "\n",
    "array_thuongnguyen=a//b\n",
    "print(\"Thương nguyên mảng a // b:\", array_thuongnguyen)\n",
    "\n",
    "array_thuongdu=a%b\n",
    "print(\"Thương dư của mảng a % b:\", array_thuongdu)"
   ]
  },
  {
   "cell_type": "markdown",
   "metadata": {},
   "source": [
    "# Thực hành số 1:\n",
    "---\n",
    "**YÊU CẦU 1: Tạo một ma trận vuông cấp n, bao gồm các phần tử, là những số nguyên ngẫu nhiên trong khoảng [0-100]**"
   ]
  },
  {
   "cell_type": "code",
   "execution_count": 37,
   "metadata": {},
   "outputs": [
    {
     "name": "stdout",
     "output_type": "stream",
     "text": [
      "[[90 39 64 24 68 25 60 40 54  2]\n",
      " [62 74 87  0 81 28 29 15 60 73]\n",
      " [ 9 81 75 88 96 40 62 71 44 96]\n",
      " [94  6 12 12  6 97 95 39 80 35]\n",
      " [49 85 45  6 51 21 93 89 87 35]\n",
      " [23  0 50 12  4 35 94 98 65 25]\n",
      " [93 66 51 79 44  7 56 52 27 96]\n",
      " [78 96 55  0 20 93  7 21 22 14]\n",
      " [15 58 84 52 78 24 48 66 46 62]\n",
      " [76 30 85 44 83  5  4 61 72 41]]\n"
     ]
    }
   ],
   "source": [
    "#{VIẾT CODE Ở ĐÂY}\n",
    "\n",
    "import numpy as np\n",
    "a = np.random.randint(0,100,(10,10))\n",
    "print(a)\n",
    "\n",
    "\n"
   ]
  },
  {
   "cell_type": "code",
   "execution_count": null,
   "metadata": {},
   "outputs": [],
   "source": []
  },
  {
   "cell_type": "markdown",
   "metadata": {},
   "source": [
    "**YÊU CẦU 2: Sử dụng ma trận tạo được trong yêu cầu 1, tạo 2 vector như sau:**\n",
    "\n",
    "**v_chinh:** bao gồm các phần tử nằm trên đường chéo chính của ma trận.\n",
    "\n",
    "**V_phu:** bao gồm các phần tử nằm trên đường chéo phụ của ma trận"
   ]
  },
  {
   "cell_type": "code",
   "execution_count": 39,
   "metadata": {},
   "outputs": [
    {
     "name": "stdout",
     "output_type": "stream",
     "text": [
      "56\n",
      "[[46 14 61 11 67 94]\n",
      " [47 72  5 66 26  2]\n",
      " [34 55 65 49 95 51]\n",
      " [13 32 66 14 69  9]\n",
      " [56 33 14 21  5 22]\n",
      " [49 85 76 59 12 97]]\n"
     ]
    },
    {
     "ename": "NameError",
     "evalue": "name 'arr_rand' is not defined",
     "output_type": "error",
     "traceback": [
      "\u001b[1;31m---------------------------------------------------------------------------\u001b[0m",
      "\u001b[1;31mNameError\u001b[0m                                 Traceback (most recent call last)",
      "\u001b[1;32m<ipython-input-39-2436f87ea785>\u001b[0m in \u001b[0;36m<module>\u001b[1;34m\u001b[0m\n\u001b[0;32m      4\u001b[0m \u001b[0ma\u001b[0m \u001b[1;33m=\u001b[0m \u001b[0mnp\u001b[0m\u001b[1;33m.\u001b[0m\u001b[0mrandom\u001b[0m\u001b[1;33m.\u001b[0m\u001b[0mrandint\u001b[0m\u001b[1;33m(\u001b[0m\u001b[1;36m0\u001b[0m\u001b[1;33m,\u001b[0m\u001b[1;36m100\u001b[0m\u001b[1;33m,\u001b[0m\u001b[1;33m(\u001b[0m\u001b[0mn\u001b[0m\u001b[1;33m,\u001b[0m\u001b[0mn\u001b[0m\u001b[1;33m)\u001b[0m\u001b[1;33m)\u001b[0m\u001b[1;33m\u001b[0m\u001b[1;33m\u001b[0m\u001b[0m\n\u001b[0;32m      5\u001b[0m \u001b[0mprint\u001b[0m\u001b[1;33m(\u001b[0m\u001b[0ma\u001b[0m\u001b[1;33m)\u001b[0m\u001b[1;33m\u001b[0m\u001b[1;33m\u001b[0m\u001b[0m\n\u001b[1;32m----> 6\u001b[1;33m \u001b[0mv_chinh\u001b[0m \u001b[1;33m=\u001b[0m \u001b[0marr_rand\u001b[0m\u001b[1;33m.\u001b[0m\u001b[0mdiagonal\u001b[0m\u001b[1;33m(\u001b[0m\u001b[0ma\u001b[0m\u001b[1;33m)\u001b[0m\u001b[1;33m\u001b[0m\u001b[1;33m\u001b[0m\u001b[0m\n\u001b[0m\u001b[0;32m      7\u001b[0m \u001b[0mprint\u001b[0m\u001b[1;33m(\u001b[0m\u001b[0mv_chinh\u001b[0m\u001b[1;33m)\u001b[0m\u001b[1;33m\u001b[0m\u001b[1;33m\u001b[0m\u001b[0m\n\u001b[0;32m      8\u001b[0m \u001b[1;33m\u001b[0m\u001b[0m\n",
      "\u001b[1;31mNameError\u001b[0m: name 'arr_rand' is not defined"
     ]
    }
   ],
   "source": [
    "#{VIẾT CODE Ở ĐÂY}\n",
    "import numpy as np\n",
    "n=int(input(n))\n",
    "a = np.random.randint(0,100,(n,n))\n",
    "print(a)\n",
    "v_chinh = arr_rand.diagonal(a)\n",
    "print(v_chinh)\n",
    "\n"
   ]
  },
  {
   "cell_type": "markdown",
   "metadata": {},
   "source": [
    "**YÊU CẦU 3: Nhập vào số nguyên x bất kỳ trong khoảng (0-100), đếm xem có bao nhiêu phần tử trong ma trận sinh ra ở yêu cầu 1 có giá trị bằng x, lớn hơn x, nhỏ hơn x và hiển thị kết quả:**"
   ]
  },
  {
   "cell_type": "code",
   "execution_count": 15,
   "metadata": {},
   "outputs": [
    {
     "name": "stdout",
     "output_type": "stream",
     "text": [
      "10\n",
      "50\n",
      "[[47 40 35 93 92 79 74 19 29 58]\n",
      " [13 19 36  6 18 73 28  6 47 35]\n",
      " [84 62 47 86 95 87 78 79 43  1]\n",
      " [20 74 48  5  8  4  0 48 87 87]\n",
      " [28 30 38 67 51 80 13 62 94  5]\n",
      " [ 1 72 76 60 26 35 83  2 75 58]\n",
      " [19 75 87 81 85 21 97 80 62 42]\n",
      " [90 40 70 12 87 64 46 40 74 83]\n",
      " [97 99 57  4 65 82 77  4 49 44]\n",
      " [17 67 76 96 93 70 48 56 59 83]]\n",
      "47\n",
      "> 54\n",
      "< 46\n",
      "= 0\n"
     ]
    }
   ],
   "source": [
    "#{VIẾT CODE Ở ĐÂY}\n",
    "n=int(input())\n",
    "x=int(input())\n",
    "import numpy as np\n",
    "a = np.random.randint(0,100,(n,n))\n",
    "nmin=0\n",
    "nmax=0\n",
    "nmm=0\n",
    "print(a)\n",
    "print (a[0,0])\n",
    "for i in range(n):\n",
    "    for j in range(n):\n",
    "        if a[i,j]>x:\n",
    "            nmax+=1\n",
    "        elif a[i,j]<x:\n",
    "            nmin+=1\n",
    "        else:\n",
    "            nmm+=1\n",
    "print(\">\",nmax)\n",
    "print(\"<\",nmin)\n",
    "print(\"=\",nmm)\n",
    "\n",
    "\n",
    "\n"
   ]
  },
  {
   "cell_type": "code",
   "execution_count": null,
   "metadata": {},
   "outputs": [],
   "source": []
  },
  {
   "cell_type": "markdown",
   "metadata": {
    "colab_type": "text",
    "id": "yXwnkCYJk2FE"
   },
   "source": [
    "## 4) Tính toán các đặc trưng thống kê trong mảng\n",
    "---\n",
    "### 4.1) Min - Max"
   ]
  },
  {
   "cell_type": "code",
   "execution_count": 25,
   "metadata": {},
   "outputs": [
    {
     "name": "stdout",
     "output_type": "stream",
     "text": [
      "BẢNG ĐIỂM CỦA LỚP 2A:\n",
      "[[ 2  4  3  7  5  6  5  6  8  9  3  6  1  9  8  7  3  3  9  5  1  6  5  1\n",
      "   4  6  7  1  1  1]\n",
      " [ 3  5  3 10  9  1  9  8  3  1  6  0  7 10  8  5  2  7  7  1  1  6  1  6\n",
      "   3  0  2  2  1  6]\n",
      " [ 1 10  4  9  6  9  0  2  3  1  8  6  8  4  2  9  2  9  5  0  4  1  7  3\n",
      "   8  9  8  9  9  9]\n",
      " [ 6  3  0  8  3  7  7  2  6  8  7  3  4  1  5  9  1  0  2 10  4  6  8  6\n",
      "   6 10  3  1  4  5]\n",
      " [ 4  3  6  7  4  5  2  6  9  4  3  9  9  4  5  7  2 10  9  4  0  5  3  1\n",
      "   4  5  6  8  2  3]\n",
      " [ 2  3  8 10  4  5  9  5  4  7 10  1  8  4  3  9  6  3  6  7  4  7  3  5\n",
      "   9  5  7  5  8  1]\n",
      " [ 9  9  1 10  9  9  5  9  6  3  9  5  1 10  7 10  2  8  8  1  8  4  5  4\n",
      "   9  6  7  2  9  2]\n",
      " [ 8  8  7  8  6  7  7  8  6  7  8  6  7  6  8  8  7  6  8  8  8  7  8  8\n",
      "   8  6  8  7  7  8]\n",
      " [ 6  7  8  9 10  9  2  2  6  1 10  9  6  3  9  5  9  8  1  1  8  8  8  6\n",
      "   6  8  7  3  8  1]\n",
      " [ 7  8  7  8  6 10 10  6  8 10  8  9  8  8  5 10  8  7  8  7  9  9  8  7\n",
      "   7  7 10  8  9  7]]\n"
     ]
    }
   ],
   "source": [
    "print('BẢNG ĐIỂM CỦA LỚP 2A:')\n",
    "print(diem_2a)"
   ]
  },
  {
   "cell_type": "code",
   "execution_count": 26,
   "metadata": {},
   "outputs": [
    {
     "name": "stdout",
     "output_type": "stream",
     "text": [
      "Điểm cao nhất của lớp: 10\n",
      "Điểm thấp nhất của lớp: 0\n"
     ]
    }
   ],
   "source": [
    "#Max - Min: Xác định giá trị lớn nhất, nhỏ nhất:\n",
    "#1) Hiển thị điểm cao nhất, thấp nhất của lớp 2A\n",
    "print('Điểm cao nhất của lớp:',diem_2a.max())\n",
    "print('Điểm thấp nhất của lớp:',diem_2a.min())"
   ]
  },
  {
   "cell_type": "code",
   "execution_count": 27,
   "metadata": {
    "colab": {},
    "colab_type": "code",
    "id": "idOxcfxek6Nl"
   },
   "outputs": [
    {
     "name": "stdout",
     "output_type": "stream",
     "text": [
      "Môn  0 : Điểm Max:  9 -- Điểm Min: 1\n",
      "Môn  1 : Điểm Max:  10 -- Điểm Min: 0\n",
      "Môn  2 : Điểm Max:  10 -- Điểm Min: 0\n",
      "Môn  3 : Điểm Max:  10 -- Điểm Min: 0\n",
      "Môn  4 : Điểm Max:  10 -- Điểm Min: 0\n",
      "Môn  5 : Điểm Max:  10 -- Điểm Min: 1\n",
      "Môn  6 : Điểm Max:  10 -- Điểm Min: 1\n",
      "Môn  7 : Điểm Max:  8 -- Điểm Min: 6\n",
      "Môn  8 : Điểm Max:  10 -- Điểm Min: 1\n",
      "Môn  9 : Điểm Max:  10 -- Điểm Min: 5\n"
     ]
    }
   ],
   "source": [
    "#2) Liệt kê điểm cao nhất và thấp nhất theo môn học\n",
    "for i in range(0,diem_2a.shape[0]):\n",
    "  print('Môn ', i,': Điểm Max: ', diem_2a[i,:].max(),\n",
    "                 '-- Điểm Min:',diem_2a[i,:].min())"
   ]
  },
  {
   "cell_type": "code",
   "execution_count": 28,
   "metadata": {},
   "outputs": [
    {
     "name": "stdout",
     "output_type": "stream",
     "text": [
      "Điểm max:  [ 9 10  8 10 10 10 10  9  9 10 10  9  9 10  9 10  9 10  9 10  9  9  8  8\n",
      "  9 10 10  9  9  9]\n",
      "Điểm Min:  [1 3 0 7 3 1 0 2 3 1 3 0 1 1 2 5 1 0 1 0 0 1 1 1 3 0 2 1 1 1]\n"
     ]
    }
   ],
   "source": [
    "#CÁCH 2:\n",
    "#phần tử max theo cột\n",
    "max_mh = diem_2a.max(axis=0)\n",
    "print('Điểm max: ', max_mh)\n",
    "\n",
    "#phần tử min theo cột\n",
    "min_mh = diem_2a.min(axis=0)\n",
    "print('Điểm Min: ', min_mh)"
   ]
  },
  {
   "cell_type": "code",
   "execution_count": 29,
   "metadata": {
    "scrolled": true
   },
   "outputs": [
    {
     "name": "stdout",
     "output_type": "stream",
     "text": [
      "Học sinh  0 : Điểm Max:  9 -- Điểm Min: 1\n",
      "Học sinh  1 : Điểm Max:  10 -- Điểm Min: 3\n",
      "Học sinh  2 : Điểm Max:  8 -- Điểm Min: 0\n",
      "Học sinh  3 : Điểm Max:  10 -- Điểm Min: 7\n",
      "Học sinh  4 : Điểm Max:  10 -- Điểm Min: 3\n",
      "Học sinh  5 : Điểm Max:  10 -- Điểm Min: 1\n",
      "Học sinh  6 : Điểm Max:  10 -- Điểm Min: 0\n",
      "Học sinh  7 : Điểm Max:  9 -- Điểm Min: 2\n",
      "Học sinh  8 : Điểm Max:  9 -- Điểm Min: 3\n",
      "Học sinh  9 : Điểm Max:  10 -- Điểm Min: 1\n",
      "Học sinh  10 : Điểm Max:  10 -- Điểm Min: 3\n",
      "Học sinh  11 : Điểm Max:  9 -- Điểm Min: 0\n",
      "Học sinh  12 : Điểm Max:  9 -- Điểm Min: 1\n",
      "Học sinh  13 : Điểm Max:  10 -- Điểm Min: 1\n",
      "Học sinh  14 : Điểm Max:  9 -- Điểm Min: 2\n",
      "Học sinh  15 : Điểm Max:  10 -- Điểm Min: 5\n",
      "Học sinh  16 : Điểm Max:  9 -- Điểm Min: 1\n",
      "Học sinh  17 : Điểm Max:  10 -- Điểm Min: 0\n",
      "Học sinh  18 : Điểm Max:  9 -- Điểm Min: 1\n",
      "Học sinh  19 : Điểm Max:  10 -- Điểm Min: 0\n",
      "Học sinh  20 : Điểm Max:  9 -- Điểm Min: 0\n",
      "Học sinh  21 : Điểm Max:  9 -- Điểm Min: 1\n",
      "Học sinh  22 : Điểm Max:  8 -- Điểm Min: 1\n",
      "Học sinh  23 : Điểm Max:  8 -- Điểm Min: 1\n",
      "Học sinh  24 : Điểm Max:  9 -- Điểm Min: 3\n",
      "Học sinh  25 : Điểm Max:  10 -- Điểm Min: 0\n",
      "Học sinh  26 : Điểm Max:  10 -- Điểm Min: 2\n",
      "Học sinh  27 : Điểm Max:  9 -- Điểm Min: 1\n",
      "Học sinh  28 : Điểm Max:  9 -- Điểm Min: 1\n",
      "Học sinh  29 : Điểm Max:  9 -- Điểm Min: 1\n"
     ]
    }
   ],
   "source": [
    "#3) Liệt kê điểm cao nhất và thấp nhất của mỗi học sinh\n",
    "for i in range(0,diem_2a.shape[1]):\n",
    "  print('Học sinh ', i,': Điểm Max: ', diem_2a[:,i].max(),\n",
    "                      '-- Điểm Min:',diem_2a[:,i].min())"
   ]
  },
  {
   "cell_type": "code",
   "execution_count": 40,
   "metadata": {
    "colab": {},
    "colab_type": "code",
    "id": "cWrmdj56mIJS"
   },
   "outputs": [
    {
     "name": "stdout",
     "output_type": "stream",
     "text": [
      "10\n",
      "7\n"
     ]
    }
   ],
   "source": [
    "#YÊU CẦU: HIỂN THỊ ĐIỂM CAO NHẤT VÀ THẤP NHẤT CỦA HỌC SINH Ở VỊ TRÍ THỨ 4 \n",
    "#Kết quả hiển thị như sau:\n",
    "#\"Điểm Max và Min của học sinh thứ 4: 10.0  điểm -  7.0  điểm\"\n",
    "#{Viết code ở đây:}\n",
    "diem_2a[:,3].max()\n",
    "print(diem_2a[:,3].max())\n",
    "print(diem_2a[:,3].min())"
   ]
  },
  {
   "cell_type": "markdown",
   "metadata": {},
   "source": [
    "### 4.2) Sum\n",
    "---"
   ]
  },
  {
   "cell_type": "code",
   "execution_count": 41,
   "metadata": {
    "colab": {
     "base_uri": "https://localhost:8080/",
     "height": 538
    },
    "colab_type": "code",
    "id": "Go7CfJ4fNJ04",
    "outputId": "7b0cd976-0a95-4ed0-aa29-1f7f5e44eff6"
   },
   "outputs": [
    {
     "name": "stdout",
     "output_type": "stream",
     "text": [
      "Tổng tất các điểm trong của lớp 2A: 1731\n",
      "---------------------------------------------------\n",
      "Tổng điểm các môn của học sinh  0  :  48\n",
      "Tổng điểm các môn của học sinh  1  :  60\n",
      "Tổng điểm các môn của học sinh  2  :  47\n",
      "Tổng điểm các môn của học sinh  3  :  86\n",
      "Tổng điểm các môn của học sinh  4  :  62\n",
      "Tổng điểm các môn của học sinh  5  :  68\n",
      "Tổng điểm các môn của học sinh  6  :  56\n",
      "Tổng điểm các môn của học sinh  7  :  54\n",
      "Tổng điểm các môn của học sinh  8  :  59\n",
      "Tổng điểm các môn của học sinh  9  :  51\n",
      "Tổng điểm các môn của học sinh  10  :  72\n",
      "Tổng điểm các môn của học sinh  11  :  54\n",
      "Tổng điểm các môn của học sinh  12  :  59\n",
      "Tổng điểm các môn của học sinh  13  :  59\n",
      "Tổng điểm các môn của học sinh  14  :  60\n",
      "Tổng điểm các môn của học sinh  15  :  79\n",
      "Tổng điểm các môn của học sinh  16  :  42\n",
      "Tổng điểm các môn của học sinh  17  :  61\n",
      "Tổng điểm các môn của học sinh  18  :  63\n",
      "Tổng điểm các môn của học sinh  19  :  44\n",
      "Tổng điểm các môn của học sinh  20  :  47\n",
      "Tổng điểm các môn của học sinh  21  :  59\n",
      "Tổng điểm các môn của học sinh  22  :  56\n",
      "Tổng điểm các môn của học sinh  23  :  47\n",
      "Tổng điểm các môn của học sinh  24  :  64\n",
      "Tổng điểm các môn của học sinh  25  :  62\n",
      "Tổng điểm các môn của học sinh  26  :  65\n",
      "Tổng điểm các môn của học sinh  27  :  46\n",
      "Tổng điểm các môn của học sinh  28  :  58\n",
      "Tổng điểm các môn của học sinh  29  :  43\n"
     ]
    }
   ],
   "source": [
    "#Sum:Tính tổng các phần tử trong mảng\n",
    "print('Tổng tất các điểm trong của lớp 2A:', diem_2a.sum())\n",
    "print('---------------------------------------------------')\n",
    "\n",
    "#Tính tổng điểm của từng học sinh:\n",
    "for i in range(0,diem_2a.shape[1]):\n",
    "  print('Tổng điểm các môn của học sinh ', i,' : ', diem_2a[:,i].sum())"
   ]
  },
  {
   "cell_type": "markdown",
   "metadata": {},
   "source": [
    "### 4.3) Mean, Median, Mode, Range\n",
    "---"
   ]
  },
  {
   "cell_type": "code",
   "execution_count": 42,
   "metadata": {
    "colab": {},
    "colab_type": "code",
    "id": "GhKA_wR4rF_P"
   },
   "outputs": [
    {
     "name": "stdout",
     "output_type": "stream",
     "text": [
      "Điểm trung bình của cả lớp 2A: 5.77\n",
      "---------------------------------------------\n",
      "Điểm trung bình của học sinh  0  :  4.8\n",
      "Điểm trung bình của học sinh  1  :  6.0\n",
      "Điểm trung bình của học sinh  2  :  4.7\n",
      "Điểm trung bình của học sinh  3  :  8.6\n",
      "Điểm trung bình của học sinh  4  :  6.2\n",
      "Điểm trung bình của học sinh  5  :  6.8\n",
      "Điểm trung bình của học sinh  6  :  5.6\n",
      "Điểm trung bình của học sinh  7  :  5.4\n",
      "Điểm trung bình của học sinh  8  :  5.9\n",
      "Điểm trung bình của học sinh  9  :  5.1\n",
      "Điểm trung bình của học sinh  10  :  7.2\n",
      "Điểm trung bình của học sinh  11  :  5.4\n",
      "Điểm trung bình của học sinh  12  :  5.9\n",
      "Điểm trung bình của học sinh  13  :  5.9\n",
      "Điểm trung bình của học sinh  14  :  6.0\n",
      "Điểm trung bình của học sinh  15  :  7.9\n",
      "Điểm trung bình của học sinh  16  :  4.2\n",
      "Điểm trung bình của học sinh  17  :  6.1\n",
      "Điểm trung bình của học sinh  18  :  6.3\n",
      "Điểm trung bình của học sinh  19  :  4.4\n",
      "Điểm trung bình của học sinh  20  :  4.7\n",
      "Điểm trung bình của học sinh  21  :  5.9\n",
      "Điểm trung bình của học sinh  22  :  5.6\n",
      "Điểm trung bình của học sinh  23  :  4.7\n",
      "Điểm trung bình của học sinh  24  :  6.4\n",
      "Điểm trung bình của học sinh  25  :  6.2\n",
      "Điểm trung bình của học sinh  26  :  6.5\n",
      "Điểm trung bình của học sinh  27  :  4.6\n",
      "Điểm trung bình của học sinh  28  :  5.8\n",
      "Điểm trung bình của học sinh  29  :  4.3\n"
     ]
    }
   ],
   "source": [
    "# A) mean: Giá trị trung bình của mảng a\n",
    "print('Điểm trung bình của cả lớp 2A:', diem_2a.mean())\n",
    "print('---------------------------------------------')\n",
    "#Tính điểm trung bình của các học sinh trong lớp:\n",
    "#CÁCH 1: \n",
    "for i in range(0,diem_2a.shape[1]):\n",
    "  print('Điểm trung bình của học sinh ', i,' : ', diem_2a[:,i].mean())"
   ]
  },
  {
   "cell_type": "code",
   "execution_count": 43,
   "metadata": {
    "colab": {},
    "colab_type": "code",
    "id": "CDNc1EmxsOCY"
   },
   "outputs": [
    {
     "name": "stdout",
     "output_type": "stream",
     "text": [
      "Điểm trung bình của học sinh  0  :  4.8\n",
      "Điểm trung bình của học sinh  1  :  6.0\n",
      "Điểm trung bình của học sinh  2  :  4.7\n",
      "Điểm trung bình của học sinh  3  :  8.6\n",
      "Điểm trung bình của học sinh  4  :  6.2\n",
      "Điểm trung bình của học sinh  5  :  6.8\n",
      "Điểm trung bình của học sinh  6  :  5.6\n",
      "Điểm trung bình của học sinh  7  :  5.4\n",
      "Điểm trung bình của học sinh  8  :  5.9\n",
      "Điểm trung bình của học sinh  9  :  5.1\n",
      "Điểm trung bình của học sinh  10  :  7.2\n",
      "Điểm trung bình của học sinh  11  :  5.4\n",
      "Điểm trung bình của học sinh  12  :  5.9\n",
      "Điểm trung bình của học sinh  13  :  5.9\n",
      "Điểm trung bình của học sinh  14  :  6.0\n",
      "Điểm trung bình của học sinh  15  :  7.9\n",
      "Điểm trung bình của học sinh  16  :  4.2\n",
      "Điểm trung bình của học sinh  17  :  6.1\n",
      "Điểm trung bình của học sinh  18  :  6.3\n",
      "Điểm trung bình của học sinh  19  :  4.4\n",
      "Điểm trung bình của học sinh  20  :  4.7\n",
      "Điểm trung bình của học sinh  21  :  5.9\n",
      "Điểm trung bình của học sinh  22  :  5.6\n",
      "Điểm trung bình của học sinh  23  :  4.7\n",
      "Điểm trung bình của học sinh  24  :  6.4\n",
      "Điểm trung bình của học sinh  25  :  6.2\n",
      "Điểm trung bình của học sinh  26  :  6.5\n",
      "Điểm trung bình của học sinh  27  :  4.6\n",
      "Điểm trung bình của học sinh  28  :  5.8\n",
      "Điểm trung bình của học sinh  29  :  4.3\n"
     ]
    }
   ],
   "source": [
    "#Tính điểm trung bình của các học sinh trong lớp:\n",
    "#CÁCH 2: \n",
    "mean_2a = diem_2a.mean(axis=0)\n",
    "#axis = 0: theo hàng\n",
    "#axis = 1: theo cột\n",
    "for i in range(0,mean_2a.size):\n",
    "  print('Điểm trung bình của học sinh ', i,' : ', mean_2a[i])"
   ]
  },
  {
   "cell_type": "code",
   "execution_count": 44,
   "metadata": {
    "colab": {
     "base_uri": "https://localhost:8080/",
     "height": 134
    },
    "colab_type": "code",
    "id": "cq-jzNk71NOT",
    "outputId": "da72d089-8cdf-4567-dffc-582541562d0c"
   },
   "outputs": [
    {
     "name": "stdout",
     "output_type": "stream",
     "text": [
      "Mảng a ban đầu: \n",
      " [ 3  5  3 10  9  1  9  8  3  1  6  0  7 10  8]\n",
      "Số phần tử trong mảng a:  15\n",
      "Mảng a đã sắp xếp: \n",
      " [ 0  1  1  3  3  3  5  6  7  8  8  9  9 10 10]\n",
      "Giá trị trung bình mean: 5.533333333333333\n",
      "Giá trị trung vị median: 6.0\n"
     ]
    }
   ],
   "source": [
    "#B) median(): Giá trị trung vị trong một tập hợp các phần tử.\n",
    "#Trường hợp số phần tử trong mảng là lẻ\n",
    "a=diem_2a[1,:15]\n",
    "\n",
    "print('Mảng a ban đầu: \\n', a)\n",
    "print('Số phần tử trong mảng a: ', a.size)\n",
    "print('Mảng a đã sắp xếp: \\n',np.sort(a,))\n",
    "print('Giá trị trung bình mean:', np.mean(a))  \n",
    "print('Giá trị trung vị median:', np.median(a))"
   ]
  },
  {
   "cell_type": "code",
   "execution_count": 45,
   "metadata": {
    "colab": {
     "base_uri": "https://localhost:8080/",
     "height": 134
    },
    "colab_type": "code",
    "id": "igZocFli-ddl",
    "outputId": "7200a038-da85-4206-8f67-ab7c0b906289"
   },
   "outputs": [
    {
     "name": "stdout",
     "output_type": "stream",
     "text": [
      "Mảng a ban đầu: \n",
      " [ 9  1  1  8  4  7  3  7  1 10]\n",
      "Số phần tử trong mảng a:  10\n",
      "Mảng a đã sắp xếp: \n",
      " [ 1  1  1  3  4  7  7  8  9 10]\n",
      "Giá trị trung bình mean: 5.1\n",
      "Giá trị trung vị median: 5.5\n"
     ]
    }
   ],
   "source": [
    "#median(): Giá trị trung vị trong một tập hợp các phần tử.\n",
    "a=diem_2a[:,9]\n",
    "\n",
    "print('Mảng a ban đầu: \\n', a)\n",
    "print('Số phần tử trong mảng a: ', a.size)\n",
    "print('Mảng a đã sắp xếp: \\n',np.sort(a,))\n",
    "print('Giá trị trung bình mean:', np.mean(a))  \n",
    "print('Giá trị trung vị median:', np.median(a))"
   ]
  },
  {
   "cell_type": "code",
   "execution_count": 55,
   "metadata": {
    "colab": {
     "base_uri": "https://localhost:8080/",
     "height": 202
    },
    "colab_type": "code",
    "id": "aZviHD9fBFOz",
    "outputId": "b7076f3b-60a8-4709-be12-de6ce393b078",
    "scrolled": false
   },
   "outputs": [
    {
     "name": "stdout",
     "output_type": "stream",
     "text": [
      "Môn  0 : Điểm xuất hiện nhiều nhất:  [1]  số lần:  [6]\n",
      "Môn  1 : Điểm xuất hiện nhiều nhất:  [1]  số lần:  [6]\n",
      "Môn  2 : Điểm xuất hiện nhiều nhất:  [9]  số lần:  [8]\n",
      "Môn  3 : Điểm xuất hiện nhiều nhất:  [6]  số lần:  [5]\n",
      "Môn  4 : Điểm xuất hiện nhiều nhất:  [4]  số lần:  [6]\n",
      "Môn  5 : Điểm xuất hiện nhiều nhất:  [5]  số lần:  [5]\n",
      "Môn  6 : Điểm xuất hiện nhiều nhất:  [9]  số lần:  [8]\n",
      "Môn  7 : Điểm xuất hiện nhiều nhất:  [8]  số lần:  [15]\n",
      "Môn  8 : Điểm xuất hiện nhiều nhất:  [8]  số lần:  [7]\n",
      "Môn  9 : Điểm xuất hiện nhiều nhất:  [8]  số lần:  [10]\n",
      "<class 'scipy.stats.stats.ModeResult'>\n"
     ]
    }
   ],
   "source": [
    "#C) Mode: là giá trị xuất hiện nhiều nhất trong tập hợp. \n",
    "#Trong trường hợp không có giá trị nào được lặp lại thì không có Mode.\n",
    "#Liệt kê điểm xuất hiện nhiều nhất theo từng môn học\n",
    "from scipy import stats as sp #sử dụng thư viện scipy để dùng hàm mode\n",
    "\n",
    "for i in range(0,diem_2a.shape[0]):\n",
    "    a = sp.mode(diem_2a[i,:])\n",
    "    print('Môn ', i,': Điểm xuất hiện nhiều nhất: ', a[0],\n",
    "        ' số lần: ', a[1])\n",
    "print(type(a))"
   ]
  },
  {
   "cell_type": "code",
   "execution_count": 56,
   "metadata": {
    "colab": {},
    "colab_type": "code",
    "id": "YbE-5b0zIQGt"
   },
   "outputs": [
    {
     "name": "stdout",
     "output_type": "stream",
     "text": [
      "Độ chênh điểm của học sinh  0  :  8\n",
      "Độ chênh điểm của học sinh  1  :  7\n",
      "Độ chênh điểm của học sinh  2  :  8\n",
      "Độ chênh điểm của học sinh  3  :  3\n",
      "Độ chênh điểm của học sinh  4  :  7\n",
      "Độ chênh điểm của học sinh  5  :  9\n",
      "Độ chênh điểm của học sinh  6  :  10\n",
      "Độ chênh điểm của học sinh  7  :  7\n",
      "Độ chênh điểm của học sinh  8  :  6\n",
      "Độ chênh điểm của học sinh  9  :  9\n",
      "Độ chênh điểm của học sinh  10  :  7\n",
      "Độ chênh điểm của học sinh  11  :  9\n",
      "Độ chênh điểm của học sinh  12  :  8\n",
      "Độ chênh điểm của học sinh  13  :  9\n",
      "Độ chênh điểm của học sinh  14  :  7\n",
      "Độ chênh điểm của học sinh  15  :  5\n",
      "Độ chênh điểm của học sinh  16  :  8\n",
      "Độ chênh điểm của học sinh  17  :  10\n",
      "Độ chênh điểm của học sinh  18  :  8\n",
      "Độ chênh điểm của học sinh  19  :  10\n",
      "Độ chênh điểm của học sinh  20  :  9\n",
      "Độ chênh điểm của học sinh  21  :  8\n",
      "Độ chênh điểm của học sinh  22  :  7\n",
      "Độ chênh điểm của học sinh  23  :  7\n",
      "Độ chênh điểm của học sinh  24  :  6\n",
      "Độ chênh điểm của học sinh  25  :  10\n",
      "Độ chênh điểm của học sinh  26  :  8\n",
      "Độ chênh điểm của học sinh  27  :  8\n",
      "Độ chênh điểm của học sinh  28  :  8\n",
      "Độ chênh điểm của học sinh  29  :  8\n"
     ]
    }
   ],
   "source": [
    "#D) Range: là sự khác biệt, khoảng cách giữa phần tử dưới và phần tử trên, \n",
    "#giữa giá trị nhỏ nhất (Min) với giá trị lớn nhất (Max) trong tập hợp.\n",
    "#Xác định độ chênh điểm max - min của từng học sinh\n",
    "\n",
    "for i in range(0,diem_2a.shape[1]):\n",
    "  print('Độ chênh điểm của học sinh ', i,' : ',\n",
    "        diem_2a[:,i].max()-diem_2a[:,i].min())"
   ]
  },
  {
   "cell_type": "code",
   "execution_count": 1,
   "metadata": {},
   "outputs": [
    {
     "ename": "NameError",
     "evalue": "name 'np' is not defined",
     "output_type": "error",
     "traceback": [
      "\u001b[1;31m---------------------------------------------------------------------------\u001b[0m",
      "\u001b[1;31mNameError\u001b[0m                                 Traceback (most recent call last)",
      "\u001b[1;32m<ipython-input-1-2bbe63062174>\u001b[0m in \u001b[0;36m<module>\u001b[1;34m\u001b[0m\n\u001b[0;32m      1\u001b[0m \u001b[1;31m#E) Std: Tính độ lệch chuẩn\u001b[0m\u001b[1;33m\u001b[0m\u001b[1;33m\u001b[0m\u001b[1;33m\u001b[0m\u001b[0m\n\u001b[1;32m----> 2\u001b[1;33m \u001b[0ma\u001b[0m \u001b[1;33m=\u001b[0m \u001b[0mnp\u001b[0m\u001b[1;33m.\u001b[0m\u001b[0marray\u001b[0m\u001b[1;33m(\u001b[0m\u001b[1;33m[\u001b[0m\u001b[1;36m10\u001b[0m\u001b[1;33m,\u001b[0m\u001b[1;36m1\u001b[0m\u001b[1;33m,\u001b[0m\u001b[1;36m1\u001b[0m\u001b[1;33m,\u001b[0m\u001b[1;36m9\u001b[0m\u001b[1;33m,\u001b[0m\u001b[1;36m12\u001b[0m\u001b[1;33m,\u001b[0m\u001b[1;36m1\u001b[0m\u001b[1;33m,\u001b[0m\u001b[1;36m9\u001b[0m\u001b[1;33m,\u001b[0m\u001b[1;36m12\u001b[0m\u001b[1;33m,\u001b[0m\u001b[1;36m10\u001b[0m\u001b[1;33m]\u001b[0m\u001b[1;33m)\u001b[0m\u001b[1;33m\u001b[0m\u001b[1;33m\u001b[0m\u001b[0m\n\u001b[0m\u001b[0;32m      3\u001b[0m \u001b[0mprint\u001b[0m\u001b[1;33m(\u001b[0m\u001b[1;34m'Phần tử của mảng a:'\u001b[0m\u001b[1;33m,\u001b[0m\u001b[0ma\u001b[0m\u001b[1;33m)\u001b[0m\u001b[1;33m\u001b[0m\u001b[1;33m\u001b[0m\u001b[0m\n\u001b[0;32m      4\u001b[0m \u001b[0mprint\u001b[0m\u001b[1;33m(\u001b[0m\u001b[1;34m'Giá trị trung bình:'\u001b[0m\u001b[1;33m,\u001b[0m\u001b[0ma\u001b[0m\u001b[1;33m.\u001b[0m\u001b[0mmean\u001b[0m\u001b[1;33m(\u001b[0m\u001b[1;33m)\u001b[0m\u001b[1;33m)\u001b[0m\u001b[1;33m\u001b[0m\u001b[1;33m\u001b[0m\u001b[0m\n\u001b[0;32m      5\u001b[0m \u001b[0mprint\u001b[0m\u001b[1;33m(\u001b[0m\u001b[1;34m'Độ lệch chuẩn:'\u001b[0m\u001b[1;33m,\u001b[0m\u001b[0ma\u001b[0m\u001b[1;33m.\u001b[0m\u001b[0mstd\u001b[0m\u001b[1;33m(\u001b[0m\u001b[1;33m)\u001b[0m\u001b[1;33m)\u001b[0m\u001b[1;33m\u001b[0m\u001b[1;33m\u001b[0m\u001b[0m\n",
      "\u001b[1;31mNameError\u001b[0m: name 'np' is not defined"
     ]
    }
   ],
   "source": [
    "#E) Std: Tính độ lệch chuẩn\n",
    "a = np.array([10,1,1,9,12,1,9,12,10])\n",
    "print('Phần tử của mảng a:',a)\n",
    "print('Giá trị trung bình:',a.mean())\n",
    "print('Độ lệch chuẩn:',a.std())\n",
    "\n",
    "print('--------------------------------------------')\n",
    "b = np.array([7,7,8,7,8,7,7,7,7])\n",
    "print('Phần tử của mảng b:',b)\n",
    "print('Giá trị trung bình:',b.mean())\n",
    "print('Độ lệch chuẩn:',b.std())"
   ]
  },
  {
   "cell_type": "code",
   "execution_count": 57,
   "metadata": {
    "colab": {
     "base_uri": "https://localhost:8080/",
     "height": 521
    },
    "colab_type": "code",
    "id": "nuAUyO_ZVJSH",
    "outputId": "fc98ead3-315f-4cac-a034-09182727574d",
    "scrolled": true
   },
   "outputs": [
    {
     "name": "stdout",
     "output_type": "stream",
     "text": [
      "Độ lệch chuẩn điểm của từng học sinh  0  :  2.6381811916545836\n",
      "Độ lệch chuẩn điểm của từng học sinh  1  :  2.569046515733026\n",
      "Độ lệch chuẩn điểm của từng học sinh  2  :  2.758622844826744\n",
      "Độ lệch chuẩn điểm của từng học sinh  3  :  1.1135528725660042\n",
      "Độ lệch chuẩn điểm của từng học sinh  4  :  2.2715633383201093\n",
      "Độ lệch chuẩn điểm của từng học sinh  5  :  2.5612496949731396\n",
      "Độ lệch chuẩn điểm của từng học sinh  6  :  3.2310988842807022\n",
      "Độ lệch chuẩn điểm của từng học sinh  7  :  2.4979991993593593\n",
      "Độ lệch chuẩn điểm của từng học sinh  8  :  1.972308292331602\n",
      "Độ lệch chuẩn điểm của từng học sinh  9  :  3.3301651610693423\n",
      "Độ lệch chuẩn điểm của từng học sinh  10  :  2.4\n",
      "Độ lệch chuẩn điểm của từng học sinh  11  :  3.0724582991474434\n",
      "Độ lệch chuẩn điểm của từng học sinh  12  :  2.77308492477241\n",
      "Độ lệch chuẩn điểm của từng học sinh  13  :  3.014962686336267\n",
      "Độ lệch chuẩn điểm của từng học sinh  14  :  2.23606797749979\n",
      "Độ lệch chuẩn điểm của từng học sinh  15  :  1.7578395831246945\n",
      "Độ lệch chuẩn điểm của từng học sinh  16  :  2.8213471959331766\n",
      "Độ lệch chuẩn điểm của từng học sinh  17  :  2.9816103031751147\n",
      "Độ lệch chuẩn điểm của từng học sinh  18  :  2.685144316419511\n",
      "Độ lệch chuẩn điểm của từng học sinh  19  :  3.352610922848042\n",
      "Độ lệch chuẩn điểm của từng học sinh  20  :  3.195309061734091\n",
      "Độ lệch chuẩn điểm của từng học sinh  21  :  2.118962010041709\n",
      "Độ lệch chuẩn điểm của từng học sinh  22  :  2.4576411454889016\n",
      "Độ lệch chuẩn điểm của từng học sinh  23  :  2.2825424421026654\n",
      "Độ lệch chuẩn điểm của từng học sinh  24  :  2.0591260281974\n",
      "Độ lệch chuẩn điểm của từng học sinh  25  :  2.6\n",
      "Độ lệch chuẩn điểm của từng học sinh  26  :  2.247220505424423\n",
      "Độ lệch chuẩn điểm của từng học sinh  27  :  3.006659275674582\n",
      "Độ lệch chuẩn điểm của từng học sinh  28  :  3.2496153618543846\n",
      "Độ lệch chuẩn điểm của từng học sinh  29  :  2.934280150224242\n"
     ]
    }
   ],
   "source": [
    "#E) Std: độ lệch chuẩn\n",
    "#Tính độ lệch chuẩn điểm thi của từng học sinh\n",
    "\n",
    "for i in range(0,diem_2a.shape[1]):\n",
    "  print('Độ lệch chuẩn điểm của từng học sinh ', i,' : ', diem_2a[:,i].std())"
   ]
  },
  {
   "cell_type": "code",
   "execution_count": 58,
   "metadata": {},
   "outputs": [
    {
     "name": "stdout",
     "output_type": "stream",
     "text": [
      "[ 7 10  9  8  7 10 10  8  9  8]\n"
     ]
    }
   ],
   "source": [
    "print(diem_2a[:,3])"
   ]
  },
  {
   "cell_type": "markdown",
   "metadata": {},
   "source": [
    "# Thực hành số 2:\n",
    "---\n",
    "**YÊU CẦU 1: Sử dụng dữ liệu bảng điểm của lớp 2A. Cho biết:**\n",
    "\n",
    "1. ĐTB của từng học sinh trong lớp.\n",
    "2. Học sinh có điểm TB cao nhất.\n",
    "3. Học sinh có điểm trung bình thấp nhất\n"
   ]
  },
  {
   "cell_type": "code",
   "execution_count": 13,
   "metadata": {},
   "outputs": [
    {
     "name": "stdout",
     "output_type": "stream",
     "text": [
      "30\n",
      "hoc sinh 0 DTB:  4.8\n",
      "hoc sinh 1 DTB:  6.0\n",
      "hoc sinh 2 DTB:  4.7\n",
      "hoc sinh 3 DTB:  8.6\n",
      "hoc sinh 4 DTB:  6.2\n",
      "hoc sinh 5 DTB:  6.8\n",
      "hoc sinh 6 DTB:  5.6\n",
      "hoc sinh 7 DTB:  5.4\n",
      "hoc sinh 8 DTB:  5.9\n",
      "hoc sinh 9 DTB:  5.1\n",
      "hoc sinh 10 DTB:  7.2\n",
      "hoc sinh 11 DTB:  5.4\n",
      "hoc sinh 12 DTB:  5.9\n",
      "hoc sinh 13 DTB:  5.9\n",
      "hoc sinh 14 DTB:  6.0\n",
      "hoc sinh 15 DTB:  7.9\n",
      "hoc sinh 16 DTB:  4.2\n",
      "hoc sinh 17 DTB:  6.1\n",
      "hoc sinh 18 DTB:  6.3\n",
      "hoc sinh 19 DTB:  4.4\n",
      "hoc sinh 20 DTB:  4.7\n",
      "hoc sinh 21 DTB:  5.9\n",
      "hoc sinh 22 DTB:  5.6\n",
      "hoc sinh 23 DTB:  4.7\n",
      "hoc sinh 24 DTB:  6.4\n",
      "hoc sinh 25 DTB:  6.2\n",
      "hoc sinh 26 DTB:  6.5\n",
      "hoc sinh 27 DTB:  4.6\n",
      "hoc sinh 28 DTB:  5.8\n",
      "hoc sinh 29 DTB:  4.3\n",
      "TB max:  8.6\n",
      "TB min:  4.2\n"
     ]
    }
   ],
   "source": [
    "#{VIẾT CODE Ở ĐÂY}\n",
    "import numpy as np\n",
    "\n",
    "print(diem_2a.shape[1])\n",
    "min=10.0\n",
    "max=0.0\n",
    "for i in range(0,diem_2a.shape[1]):\n",
    "    a=diem_2a[:,i].mean()\n",
    "    print(\"hoc sinh\",i,\"DTB: \",a)\n",
    "    if min > a:\n",
    "        min=a\n",
    "    if max < a:\n",
    "        max=a\n",
    "print(\"TB max: \",max)\n",
    "print(\"TB min: \",min)"
   ]
  },
  {
   "cell_type": "code",
   "execution_count": null,
   "metadata": {},
   "outputs": [],
   "source": []
  },
  {
   "cell_type": "markdown",
   "metadata": {},
   "source": [
    "**YÊU CẦU 2: Sử dụng dữ liệu bảng điểm của lớp 2A. Cho biết:**\n",
    "\n",
    "1. ĐTB của từng môn học.\n",
    "2. Môn học có điểm TB cao nhất.\n",
    "3. Môn học có điểm trung bình thấp nhất"
   ]
  },
  {
   "cell_type": "code",
   "execution_count": 17,
   "metadata": {},
   "outputs": [
    {
     "name": "stdout",
     "output_type": "stream",
     "text": [
      "10\n",
      "Môn  0  TBM:  4.733333333333333\n",
      "Môn  1  TBM:  4.433333333333334\n",
      "Môn  2  TBM:  5.5\n",
      "Môn  3  TBM:  4.833333333333333\n",
      "Môn  4  TBM:  4.966666666666667\n",
      "Môn  5  TBM:  5.6\n",
      "Môn  6  TBM:  6.233333333333333\n",
      "Môn  7  TBM:  7.3\n",
      "Môn  8  TBM:  6.133333333333334\n",
      "Môn  9  TBM:  7.966666666666667\n",
      "TBM max:  7.966666666666667\n",
      "TBM min:  4.433333333333334\n"
     ]
    }
   ],
   "source": [
    "#{VIẾT CODE Ở ĐÂY}\n",
    "import numpy as np\n",
    "print(diem_2a.shape[0])\n",
    "max=0\n",
    "min=10\n",
    "for i in range(0,diem_2a.shape[0]):\n",
    "    TBM=diem_2a[i,:].mean()\n",
    "    print(\"Môn \",i,\" TBM: \",TBM)\n",
    "    if TBM>max:\n",
    "        max=TBM\n",
    "    if TBM<min:\n",
    "        min=TBM\n",
    "print(\"TBM max: \",max)\n",
    "print(\"TBM min: \",min)\n",
    "\n",
    "\n"
   ]
  },
  {
   "cell_type": "markdown",
   "metadata": {},
   "source": [
    "#### **YÊU CẦU 3: Sử dụng dữ liệu bảng điểm của lớp 2A. Cho biết:**\n",
    "---\n",
    "1. Sinh viên có điểm đồng đều nhất tất cả các môn. Sinh viên có điểm các môn lệch nhất trong lớp.\n",
    "2. Môn học có điểm đồng đều nhất. Môn học có điểm chênh lệch nhất.\n",
    "\n"
   ]
  },
  {
   "cell_type": "code",
   "execution_count": 25,
   "metadata": {},
   "outputs": [
    {
     "name": "stdout",
     "output_type": "stream",
     "text": [
      "30\n",
      "Sinh viên  3  có điểm đồng đều nhất. (std= 1.1135528725660042 )\n",
      "Sinh viên  19  có điểm lệch nhất. (std= 3.352610922848042 )\n"
     ]
    }
   ],
   "source": [
    "#{VIẾT CODE Ở ĐÂY}\n",
    "#1\n",
    "std_max=0.0\n",
    "add_max=0\n",
    "std_min=10.0\n",
    "add_min=0\n",
    "import numpy as np\n",
    "print(diem_2a.shape[1])\n",
    "for i in range(0,diem_2a.shape[1]):\n",
    "    s_std=diem_2a[:,i].std()\n",
    "#     print(s_std)\n",
    "    if s_std>std_max:\n",
    "        std_max=s_std\n",
    "        add_max=i\n",
    "    if s_std<std_min:\n",
    "        std_min=s_std\n",
    "        add_min=i\n",
    "print(\"Sinh viên \",add_min,\" có điểm đồng đều nhất. (std=\",std_min,\")\")\n",
    "print(\"Sinh viên \",add_max,\" có điểm lệch nhất. (std=\",std_max,\")\")\n",
    "\n",
    "\n"
   ]
  },
  {
   "cell_type": "code",
   "execution_count": 28,
   "metadata": {
    "scrolled": true
   },
   "outputs": [
    {
     "name": "stdout",
     "output_type": "stream",
     "text": [
      "10\n",
      "TBM  0  là:  2.6068286394689535\n",
      "TBM  1  là:  3.137762826530322\n",
      "TBM  2  là:  3.2837986133947576\n",
      "TBM  3  là:  2.852873794770615\n",
      "TBM  4  là:  2.575310121562493\n",
      "TBM  5  là:  2.5377155080899043\n",
      "TBM  6  là:  3.0296681153038674\n",
      "TBM  7  là:  0.7810249675906655\n",
      "TBM  8  là:  2.9295430056959773\n",
      "TBM  9  là:  1.27758452644912\n",
      "Môn  2  lệch nhiều nhất std=:  3.2837986133947576\n",
      "Môn  7  đồng đều nhất std=:  0.7810249675906655\n"
     ]
    }
   ],
   "source": [
    "#2\n",
    "max_std=0\n",
    "min_std=10\n",
    "add_max=0\n",
    "add_min=0\n",
    "import numpy as np\n",
    "print(diem_2a.shape[0])\n",
    "for i in range(diem_2a.shape[0]):\n",
    "    m_std=diem_2a[i,:].std()\n",
    "    if max_std < m_std:\n",
    "        max_std=m_std\n",
    "        add_max=i\n",
    "    if min_std > m_std:\n",
    "        min_std=m_std\n",
    "        add_min=i\n",
    "    print(\"TBM \",i,\" là: \",m_std)\n",
    "print(\"Môn \",add_max,\" lệch nhiều nhất std=: \",max_std)\n",
    "print(\"Môn \",add_min,\" đồng đều nhất std=: \",min_std)"
   ]
  },
  {
   "cell_type": "markdown",
   "metadata": {
    "colab": {},
    "colab_type": "code",
    "id": "mZjltyhGt0-l"
   },
   "source": [
    "### 4.3) Hệ số tương quan | corrcoef\n",
    "---"
   ]
  },
  {
   "cell_type": "code",
   "execution_count": 29,
   "metadata": {
    "colab": {
     "base_uri": "https://localhost:8080/",
     "height": 84
    },
    "colab_type": "code",
    "id": "AzbLh8h1dDn7",
    "outputId": "e8263aac-7bd0-4114-d2a8-ab9386f6a67c"
   },
   "outputs": [
    {
     "name": "stdout",
     "output_type": "stream",
     "text": [
      "<class 'numpy.ndarray'>\n",
      "Hệ số tương quan: \n",
      " [[1.        0.6652317]\n",
      " [0.6652317 1.       ]]\n"
     ]
    }
   ],
   "source": [
    "import numpy as np\n",
    "#corrcoef: Hệ số tương quan\n",
    "\n",
    "#Thời gian dành cho học bài\n",
    "a_giohoc = np.array([4,7,1,2,8,0,3,8,6])\n",
    "\n",
    "#Điểm thi nhận được:\n",
    "b_diem   = np.array([8,9,10,4,9,2,5,10,8])\n",
    "\n",
    "co = np.corrcoef(a_giohoc,b_diem)\n",
    "print(type(co))\n",
    "print('Hệ số tương quan: \\n', co)"
   ]
  },
  {
   "cell_type": "code",
   "execution_count": 30,
   "metadata": {
    "colab": {
     "base_uri": "https://localhost:8080/",
     "height": 297
    },
    "colab_type": "code",
    "id": "2M0_uFNSg7wa",
    "outputId": "3ce8e3f7-c30a-40d4-d5b7-2b92c26a89a8"
   },
   "outputs": [
    {
     "data": {
      "image/png": "[encoded data removed]",
      "text/plain": [
       "<Figure size 432x288 with 1 Axes>"
      ]
     },
     "metadata": {
      "needs_background": "light"
     },
     "output_type": "display_data"
    }
   ],
   "source": [
    "#Vẽ đồ thị mối quan hệ giữa thời gian học và điểm nhận được\n",
    "\n",
    "import matplotlib.pyplot as plt\n",
    "fig, ax = plt.subplots()\n",
    "ax.scatter(a_giohoc, b_diem)\n",
    "\n",
    "ax.set_xlabel('Giờ học bài (tuần)', fontsize=10)\n",
    "ax.set_ylabel('Điểm môn học', fontsize=10)\n",
    "ax.set_title('BIỂU ĐỒ THỂ HIỆN MỐI TƯƠNG QUAN GIỮA GIỜ HỌC BÀI VÀ ĐIỂM THI')\n",
    "\n",
    "ax.grid(True)\n",
    "#fig.tight_layout()\n",
    "\n",
    "plt.show()"
   ]
  },
  {
   "cell_type": "code",
   "execution_count": 31,
   "metadata": {
    "colab": {
     "base_uri": "https://localhost:8080/",
     "height": 67
    },
    "colab_type": "code",
    "id": "rQxsOLWSeJfn",
    "outputId": "f7d12246-8a86-4a58-9c54-4ed4d9719fc4"
   },
   "outputs": [
    {
     "name": "stdout",
     "output_type": "stream",
     "text": [
      "<class 'numpy.ndarray'>\n",
      "[[1.         0.96995403 0.93501924]\n",
      " [0.96995403 1.         0.884375  ]\n",
      " [0.93501924 0.884375   1.        ]]\n"
     ]
    }
   ],
   "source": [
    "#Hệ số tương quan của Matrix\n",
    "a_hoc = np.array([[4,7,1,2,8,0,3,8,6],\n",
    "                 [7,9,3,4,9,0,5,10,8],\n",
    "                 [1,2,0,1,3,0,1,4,2]])\n",
    "\n",
    "co = np.corrcoef(a_hoc)\n",
    "print(type(co))\n",
    "print(co)"
   ]
  },
  {
   "cell_type": "markdown",
   "metadata": {},
   "source": [
    "# Thực hành số 3:\n",
    "---\n",
    "**Yêu cầu: Xác định hệ số tương quan giữa diện tích (1) | Khoảng cách từ trung tâm thành phố (2) và giá bán nhà theo bảng số liệu**\n"
   ]
  },
  {
   "cell_type": "code",
   "execution_count": 3,
   "metadata": {},
   "outputs": [
    {
     "name": "stderr",
     "output_type": "stream",
     "text": [
      "<ipython-input-3-947e36550f7c>:5: DeprecationWarning: `np.int` is a deprecated alias for the builtin `int`. To silence this warning, use `int` by itself. Doing this will not modify any behavior and is safe. When replacing `np.int`, you may wish to use e.g. `np.int64` or `np.int32` to specify the precision. If you wish to review your current use, check the release note link for additional information.\n",
      "Deprecated in NumPy 1.20; for more details and guidance: https://numpy.org/devdocs/release/1.20.0-notes.html#deprecations\n",
      "  BMI=np.loadtxt('D:\\python\\Data_BMI.txt',dtype=np.int)\n"
     ]
    },
    {
     "name": "stdout",
     "output_type": "stream",
     "text": [
      "[[1. 1. 1. ... 1. 1. 1.]\n",
      " [1. 1. 1. ... 1. 1. 1.]\n",
      " [1. 1. 1. ... 1. 1. 1.]\n",
      " ...\n",
      " [1. 1. 1. ... 1. 1. 1.]\n",
      " [1. 1. 1. ... 1. 1. 1.]\n",
      " [1. 1. 1. ... 1. 1. 1.]]\n"
     ]
    }
   ],
   "source": [
    "#{VIẾT CODE Ở ĐÂY}\n",
    "import numpy as np\n",
    "# path='D:\\python\\Data_BMI.txt'\n",
    "\n",
    "BMI=np.loadtxt('D:\\python\\Data_BMI.txt',dtype=np.int)\n",
    "# print(BMI)\n",
    "# Dia=np.loadtxt('D:\\python\\Diamonds.txt',dtype=np.float)\n",
    "# print(Dia)\n",
    "# co=np.corrcoef(BMI,Dia)\n",
    "co1=np.corrcoef(BMI)\n",
    "# co2=np.corrcoef(Dia)\n",
    "# print(co)\n",
    "print(co1)\n",
    "# print(co2)\n"
   ]
  },
  {
   "cell_type": "code",
   "execution_count": null,
   "metadata": {},
   "outputs": [],
   "source": [
    "#{VIẾT CODE Ở ĐÂY}\n",
    "\n",
    "\n"
   ]
  },
  {
   "cell_type": "markdown",
   "metadata": {},
   "source": [
    "## 5) Kết hợp, chuyển đổi vector, matrix\n",
    "---\n",
    "### 5.1) reshape"
   ]
  },
  {
   "cell_type": "code",
   "execution_count": 4,
   "metadata": {},
   "outputs": [
    {
     "name": "stdout",
     "output_type": "stream",
     "text": [
      "[ 5  7  2  9 10 15  2  9  2 17 28 16]\n",
      "Số phần tử của vector: 12\n"
     ]
    }
   ],
   "source": [
    "# Phương thức a.reshape(m,n)\n",
    "vector_a = np.array([5,7,2,9,10,15,2,9,2,17,28,16],dtype=np.int16)\n",
    "print(vector_a)\n",
    "print('Số phần tử của vector:', vector_a.size)"
   ]
  },
  {
   "cell_type": "code",
   "execution_count": 5,
   "metadata": {},
   "outputs": [
    {
     "name": "stdout",
     "output_type": "stream",
     "text": [
      "Reshape về matrix: 3 x 4\n",
      "[[ 5  7  2  9]\n",
      " [10 15  2  9]\n",
      " [ 2 17 28 16]]\n",
      "Số phần tử của matrix_a: 12\n"
     ]
    }
   ],
   "source": [
    "#Chuyển đổi vector về matrix (n x m)\n",
    "#Lưu ý: matrix.size =vector.size\n",
    "matrix_a = vector_a.reshape((3,4))\n",
    "print('Reshape về matrix: 3 x 4')\n",
    "print(matrix_a)\n",
    "print('Số phần tử của matrix_a:',matrix_a.size)"
   ]
  },
  {
   "cell_type": "code",
   "execution_count": 6,
   "metadata": {},
   "outputs": [
    {
     "name": "stdout",
     "output_type": "stream",
     "text": [
      "Reshape về matrix: 2 x 6\n",
      "[[ 5  2 10  2  2 28]\n",
      " [ 7  9 15  9 17 16]]\n",
      "Số phần tử của matrix_b: 12\n"
     ]
    }
   ],
   "source": [
    "print('Reshape về matrix: 2 x 6')\n",
    "matrix_b = vector_a.reshape((2,6),order='F')\n",
    "print(matrix_b)\n",
    "print('Số phần tử của matrix_b:',matrix_b.size)"
   ]
  },
  {
   "cell_type": "code",
   "execution_count": 7,
   "metadata": {},
   "outputs": [
    {
     "name": "stdout",
     "output_type": "stream",
     "text": [
      "[ 1  2  3  4  5  6  7  8  9 10 11 12]\n"
     ]
    }
   ],
   "source": [
    "#sắp xếp thứ tự các phần tử khi reshape array\n",
    "a1 = np.arange(1,13)\n",
    "print(a1)"
   ]
  },
  {
   "cell_type": "code",
   "execution_count": 8,
   "metadata": {},
   "outputs": [
    {
     "name": "stdout",
     "output_type": "stream",
     "text": [
      "[[ 1  2  3  4]\n",
      " [ 5  6  7  8]\n",
      " [ 9 10 11 12]]\n"
     ]
    }
   ],
   "source": [
    "#order ='C': default - reshape phần tử theo hàng\n",
    "matrix_a1 = a1.reshape((3,4),order='C')\n",
    "print(matrix_a1)"
   ]
  },
  {
   "cell_type": "code",
   "execution_count": 9,
   "metadata": {},
   "outputs": [
    {
     "name": "stdout",
     "output_type": "stream",
     "text": [
      "[[ 1  4  7 10]\n",
      " [ 2  5  8 11]\n",
      " [ 3  6  9 12]]\n"
     ]
    }
   ],
   "source": [
    "#order ='F': reshape phần tử theo cột\n",
    "matrix_a1 = a1.reshape((3,4),order='F')\n",
    "print(matrix_a1)"
   ]
  },
  {
   "cell_type": "code",
   "execution_count": 29,
   "metadata": {},
   "outputs": [
    {
     "data": {
      "text/plain": [
       "array([44, 72, 87, 37, 98, 72, 25, 97, 92, 56, 70, 46, 73, 61, 34, 46,  8,\n",
       "       14, 43, 42, 53, 40,  6, 23,  1, 11, 66, 98, 17, 59, 12, 41, 99, 64,\n",
       "       30, 45, 76,  4, 50, 72, 65, 88, 36, 87, 10,  8, 44, 94, 77, 90, 46,\n",
       "       31, 12,  0, 53,  7,  6, 49, 74, 68, 85, 16, 17, 60, 77, 29, 43, 30,\n",
       "       59, 60, 95,  2, 37, 55, 38, 10, 52, 85, 85, 53])"
      ]
     },
     "execution_count": 29,
     "metadata": {},
     "output_type": "execute_result"
    }
   ],
   "source": [
    "#Sử dụng tham số -1 để tự động tính toán số hàng (hoặc số cột)\n",
    "A = np.random.randint(0,100,80)\n",
    "A"
   ]
  },
  {
   "cell_type": "code",
   "execution_count": 30,
   "metadata": {},
   "outputs": [
    {
     "data": {
      "text/plain": [
       "array([[44, 72, 87, 37, 98, 72, 25, 97, 92, 56],\n",
       "       [70, 46, 73, 61, 34, 46,  8, 14, 43, 42],\n",
       "       [53, 40,  6, 23,  1, 11, 66, 98, 17, 59],\n",
       "       [12, 41, 99, 64, 30, 45, 76,  4, 50, 72],\n",
       "       [65, 88, 36, 87, 10,  8, 44, 94, 77, 90],\n",
       "       [46, 31, 12,  0, 53,  7,  6, 49, 74, 68],\n",
       "       [85, 16, 17, 60, 77, 29, 43, 30, 59, 60],\n",
       "       [95,  2, 37, 55, 38, 10, 52, 85, 85, 53]])"
      ]
     },
     "execution_count": 30,
     "metadata": {},
     "output_type": "execute_result"
    }
   ],
   "source": [
    "#Tự động tính toán số cột\n",
    "A1 = A.reshape(8,-1)\n",
    "A1"
   ]
  },
  {
   "cell_type": "code",
   "execution_count": 34,
   "metadata": {},
   "outputs": [
    {
     "data": {
      "text/plain": [
       "array([[44, 72, 87, 37, 98, 72, 25, 97, 92, 56],\n",
       "       [70, 46, 73, 61, 34, 46,  8, 14, 43, 42],\n",
       "       [53, 40,  6, 23,  1, 11, 66, 98, 17, 59],\n",
       "       [12, 41, 99, 64, 30, 45, 76,  4, 50, 72],\n",
       "       [65, 88, 36, 87, 10,  8, 44, 94, 77, 90],\n",
       "       [46, 31, 12,  0, 53,  7,  6, 49, 74, 68],\n",
       "       [85, 16, 17, 60, 77, 29, 43, 30, 59, 60],\n",
       "       [95,  2, 37, 55, 38, 10, 52, 85, 85, 53]])"
      ]
     },
     "execution_count": 34,
     "metadata": {},
     "output_type": "execute_result"
    }
   ],
   "source": [
    "#Tự động tính toán số hàng\n",
    "A2 = A.reshape(-1,10)\n",
    "A2"
   ]
  },
  {
   "cell_type": "code",
   "execution_count": 35,
   "metadata": {},
   "outputs": [
    {
     "data": {
      "text/plain": [
       "array([[44, 72, 87, 37, 98, 72, 25, 97, 92, 56, 70, 46, 73, 61, 34, 46,\n",
       "         8, 14, 43, 42],\n",
       "       [53, 40,  6, 23,  1, 11, 66, 98, 17, 59, 12, 41, 99, 64, 30, 45,\n",
       "        76,  4, 50, 72],\n",
       "       [65, 88, 36, 87, 10,  8, 44, 94, 77, 90, 46, 31, 12,  0, 53,  7,\n",
       "         6, 49, 74, 68],\n",
       "       [85, 16, 17, 60, 77, 29, 43, 30, 59, 60, 95,  2, 37, 55, 38, 10,\n",
       "        52, 85, 85, 53]])"
      ]
     },
     "execution_count": 35,
     "metadata": {},
     "output_type": "execute_result"
    }
   ],
   "source": [
    "#Thay đổi kích thước ma trận\n",
    "A3=A2.reshape(4,-1)\n",
    "A3"
   ]
  },
  {
   "cell_type": "markdown",
   "metadata": {},
   "source": [
    "### 5.2) Flatten | ravel array\n",
    "---\n",
    "**Phương thức: ravel sử dụng để chuyển Matrix thành Vector**"
   ]
  },
  {
   "cell_type": "code",
   "execution_count": 36,
   "metadata": {},
   "outputs": [
    {
     "name": "stdout",
     "output_type": "stream",
     "text": [
      "Matrix: \n",
      " [[ 1  2  3  4]\n",
      " [ 5  6  7  8]\n",
      " [ 9 10 11 12]]\n",
      "---------------------------------------\n",
      "a) ravel by row (default order='C')\n",
      "[ 1  2  3  4  5  6  7  8  9 10 11 12]\n",
      "\n",
      " b) ravel by column (order='F')\n",
      "[ 1  5  9  2  6 10  3  7 11  4  8 12]\n"
     ]
    }
   ],
   "source": [
    "#Chuyển đổi từ Matrix --> Vector\n",
    "\n",
    "a1_2d = np.array([(1,2,3,4),(5,6,7,8),(9,10,11,12)])\n",
    "print('Matrix: \\n', a1_2d)\n",
    "\n",
    "print('---------------------------------------')\n",
    "print('a) ravel by row (default order=\\'C\\')')\n",
    "print(a1_2d.ravel()) \n",
    "\n",
    "print('\\n b) ravel by column (order=\\'F\\')')\n",
    "print(a1_2d.ravel(order='F'))"
   ]
  },
  {
   "cell_type": "markdown",
   "metadata": {},
   "source": [
    "### 5.3) Concatenate array\n",
    "---\n",
    "**Phương thức: Concatenate sử dụng để kết hợp các vector, array lại với nhau**"
   ]
  },
  {
   "cell_type": "code",
   "execution_count": 37,
   "metadata": {},
   "outputs": [
    {
     "name": "stdout",
     "output_type": "stream",
     "text": [
      "Vector x: [1 1 1 1 1]\n",
      "Vector y: [9 9 9 9 9]\n",
      "Vector xy: [1 1 1 1 1 9 9 9 9 9]\n"
     ]
    }
   ],
   "source": [
    "#Phương thức: Concatenate sử dụng để kết hợp các vector, array lại với nhau\n",
    "#Khởi Tạo vector\n",
    "x = np.full((5),1)\n",
    "y = np.full((5),9)\n",
    "\n",
    "print('Vector x:', x)\n",
    "print('Vector y:', y)\n",
    "#Ghép 2 vector \n",
    "xy = np.concatenate([x, y])\n",
    "print('Vector xy:',xy)"
   ]
  },
  {
   "cell_type": "code",
   "execution_count": 38,
   "metadata": {},
   "outputs": [
    {
     "name": "stdout",
     "output_type": "stream",
     "text": [
      "Ma trận x:\n",
      " [[1 1 1 1]\n",
      " [1 1 1 1]\n",
      " [1 1 1 1]]\n",
      "Ma trận y:\n",
      " [[9 9 9 9]\n",
      " [9 9 9 9]\n",
      " [9 9 9 9]]\n",
      "Ma trận xy (theo hàng):\n",
      " [[1 1 1 1]\n",
      " [1 1 1 1]\n",
      " [1 1 1 1]\n",
      " [9 9 9 9]\n",
      " [9 9 9 9]\n",
      " [9 9 9 9]]\n",
      "Ma trận xy (theo hàng):\n",
      " [[1 1 1 1 9 9 9 9]\n",
      " [1 1 1 1 9 9 9 9]\n",
      " [1 1 1 1 9 9 9 9]]\n"
     ]
    }
   ],
   "source": [
    "#Khởi Tạo ma trận\n",
    "x = np.full((3,4),1)\n",
    "y = np.full((3,4),9)\n",
    "\n",
    "print('Ma trận x:\\n', x)\n",
    "print('Ma trận y:\\n', y)\n",
    "\n",
    "#Ghép 2 ma trận theo hàng axis=0 (Default)\n",
    "xy_row = np.concatenate([x, y],axis=0)\n",
    "print('Ma trận xy (theo hàng):\\n',xy_row)\n",
    "\n",
    "#Ghép 2 ma trận theo cột axis=1\n",
    "xy_col = np.concatenate([x, y],axis=1)\n",
    "print('Ma trận xy (theo hàng):\\n',xy_col)"
   ]
  },
  {
   "cell_type": "code",
   "execution_count": 39,
   "metadata": {},
   "outputs": [
    {
     "name": "stdout",
     "output_type": "stream",
     "text": [
      "Ma trận x:\n",
      " [[1 1 1 1]\n",
      " [1 1 1 1]\n",
      " [1 1 1 1]]\n",
      "Ma trận y:\n",
      " [[9 9 9 9]\n",
      " [9 9 9 9]\n",
      " [9 9 9 9]]\n",
      "[[1 1 1 1]\n",
      " [1 1 1 1]\n",
      " [1 1 1 1]\n",
      " [9 9 9 9]\n",
      " [9 9 9 9]\n",
      " [9 9 9 9]]\n",
      "[[1 1 1 1 9 9 9 9]\n",
      " [1 1 1 1 9 9 9 9]\n",
      " [1 1 1 1 9 9 9 9]]\n"
     ]
    }
   ],
   "source": [
    "#CÁCH 2: Sử dụng vstack, hstack để gộp vector, array\n",
    "import numpy as np\n",
    "\n",
    "#Khởi Tạo ma trận\n",
    "x = np.full((3,4),1)\n",
    "y = np.full((3,4),9)\n",
    "\n",
    "print('Ma trận x:\\n', x)\n",
    "print('Ma trận y:\\n', y)\n",
    "\n",
    "xy = np.vstack([x,y])\n",
    "print(xy)\n",
    "\n",
    "xy1 = np.hstack([x,y])\n",
    "print(xy1)"
   ]
  },
  {
   "cell_type": "markdown",
   "metadata": {},
   "source": [
    "### 5.3) Split array\n",
    "---\n",
    "**Phương thức: Split sử dụng để phân tách các vector, array**"
   ]
  },
  {
   "cell_type": "code",
   "execution_count": 66,
   "metadata": {},
   "outputs": [
    {
     "name": "stdout",
     "output_type": "stream",
     "text": [
      "[0 1 2 3 4 5]\n",
      "[0 1 2] [3 4 5]\n"
     ]
    }
   ],
   "source": [
    "#Split với Vector\n",
    "import numpy as np\n",
    "x = np.arange(0,6)\n",
    "print(x)\n",
    "\n",
    "#Tách vector x thành 2 vector \n",
    "#có số phần tử bằng nhau\n",
    "x1, x2 = np.split(x, 2)\n",
    "print(x1, x2)"
   ]
  },
  {
   "cell_type": "code",
   "execution_count": 67,
   "metadata": {},
   "outputs": [
    {
     "name": "stdout",
     "output_type": "stream",
     "text": [
      "[0 1 2 3 4] [5]\n"
     ]
    }
   ],
   "source": [
    "#Tách vector x thành 2 vector \n",
    "#vector 1 có 4 phần tử\n",
    "x11, x22 = np.split(x, [5])\n",
    "# x222=np.split()\n",
    "# print(x222)\n",
    "print(x11, x22)"
   ]
  },
  {
   "cell_type": "code",
   "execution_count": 42,
   "metadata": {},
   "outputs": [
    {
     "name": "stdout",
     "output_type": "stream",
     "text": [
      "[1 2 3 4 5 6 7 8 9]\n",
      "[1 2] [3 4 5 6] [7 8 9]\n"
     ]
    }
   ],
   "source": [
    "import numpy as np\n",
    "x = np.arange(1,10)\n",
    "print(x)\n",
    "\n",
    "#Tách vector x thành 3 vector \n",
    "#tại các vị trí 2 và 6\n",
    "x1, x2, x3 = np.split(x, [2,6])\n",
    "print(x1, x2, x3)"
   ]
  },
  {
   "cell_type": "code",
   "execution_count": 43,
   "metadata": {},
   "outputs": [
    {
     "name": "stdout",
     "output_type": "stream",
     "text": [
      "[[ 1  2  3  4  5]\n",
      " [ 6  7  8  9 10]\n",
      " [11 12 13 14 15]\n",
      " [16 17 18 19 20]]\n",
      "-----------------------------\n",
      "[[ 1  2  3  4  5]\n",
      " [ 6  7  8  9 10]]\n",
      "-----------------------------\n",
      "[[11 12 13 14 15]\n",
      " [16 17 18 19 20]]\n"
     ]
    }
   ],
   "source": [
    "#Split với Ma trận\n",
    "a = np.array([(1,2,3,4,5), \n",
    "              (6,7,8,9,10), \n",
    "              (11,12,13,14,15), \n",
    "              (16,17,18,19,20)])\n",
    "print(a)\n",
    "print('-----------------------------')\n",
    "#split theo row\n",
    "upper, lower = np.vsplit(a, 2)\n",
    "print(upper)\n",
    "print('-----------------------------')\n",
    "print(lower)"
   ]
  },
  {
   "cell_type": "code",
   "execution_count": 45,
   "metadata": {},
   "outputs": [
    {
     "name": "stdout",
     "output_type": "stream",
     "text": [
      "[[ 1  2  3  4  5]\n",
      " [ 6  7  8  9 10]\n",
      " [11 12 13 14 15]\n",
      " [16 17 18 19 20]]\n",
      "-----------------------------\n",
      "[[ 1  2]\n",
      " [ 6  7]\n",
      " [11 12]\n",
      " [16 17]]\n",
      "-----------------------------\n",
      "[[ 3]\n",
      " [ 8]\n",
      " [13]\n",
      " [18]]\n",
      "-----------------------------\n",
      "[[ 4]\n",
      " [ 9]\n",
      " [14]\n",
      " [19]]\n",
      "-----------------------------\n",
      "[[ 5]\n",
      " [10]\n",
      " [15]\n",
      " [20]]\n"
     ]
    }
   ],
   "source": [
    "print(a)\n",
    "print('-----------------------------')\n",
    "#split theo col, Tách thành 3 ma trận\n",
    "#Ma trận đầu chứ 2 cột dữ liệu\n",
    "a1, a2, a3,a4 = np.hsplit(a, (2,3,4))\n",
    "print(a1)\n",
    "print('-----------------------------')\n",
    "print(a2)\n",
    "print('-----------------------------')\n",
    "print(a3)\n",
    "print('-----------------------------')\n",
    "print(a4)"
   ]
  },
  {
   "cell_type": "markdown",
   "metadata": {},
   "source": [
    "### 5.5) Flip array\n",
    "---\n",
    "**Phương thức: Flip sử dụng lật ngược ma trận theo hàng, cột**"
   ]
  },
  {
   "cell_type": "code",
   "execution_count": 46,
   "metadata": {},
   "outputs": [
    {
     "name": "stdout",
     "output_type": "stream",
     "text": [
      "Ma trận ban đầu: \n",
      " [[ 1  2  3  4  5]\n",
      " [ 6  7  8  9 10]\n",
      " [11 12 13 14 15]\n",
      " [16 17 18 19 20]\n",
      " [21 22 23 24 25]]\n"
     ]
    },
    {
     "name": "stderr",
     "output_type": "stream",
     "text": [
      "<ipython-input-46-59ee9e102ca1>:3: DeprecationWarning: `np.int` is a deprecated alias for the builtin `int`. To silence this warning, use `int` by itself. Doing this will not modify any behavior and is safe. When replacing `np.int`, you may wish to use e.g. `np.int64` or `np.int32` to specify the precision. If you wish to review your current use, check the release note link for additional information.\n",
      "Deprecated in NumPy 1.20; for more details and guidance: https://numpy.org/devdocs/release/1.20.0-notes.html#deprecations\n",
      "  A = np.linspace(1,25,25,dtype=np.int).reshape(5,5)\n"
     ]
    }
   ],
   "source": [
    "import numpy as np\n",
    "#Tạo mảng A\n",
    "A = np.linspace(1,25,25,dtype=np.int).reshape(5,5)\n",
    "print('Ma trận ban đầu: \\n',A)\n"
   ]
  },
  {
   "cell_type": "code",
   "execution_count": 47,
   "metadata": {},
   "outputs": [
    {
     "data": {
      "text/plain": [
       "array([[ 1,  6, 11, 16, 21],\n",
       "       [ 2,  7, 12, 17, 22],\n",
       "       [ 3,  8, 13, 18, 23],\n",
       "       [ 4,  9, 14, 19, 24],\n",
       "       [ 5, 10, 15, 20, 25]])"
      ]
     },
     "execution_count": 47,
     "metadata": {},
     "output_type": "execute_result"
    }
   ],
   "source": [
    "A.T"
   ]
  },
  {
   "cell_type": "code",
   "execution_count": 48,
   "metadata": {},
   "outputs": [
    {
     "name": "stdout",
     "output_type": "stream",
     "text": [
      "Lật ma trận theo cột: \n",
      " [[ 5  4  3  2  1]\n",
      " [10  9  8  7  6]\n",
      " [15 14 13 12 11]\n",
      " [20 19 18 17 16]\n",
      " [25 24 23 22 21]]\n"
     ]
    }
   ],
   "source": [
    "#Lật ma trận theo cột\n",
    "A1 = np.flip(A,1) \n",
    "#Tương đương với\n",
    "#A1 = np.fliplr(A)\n",
    "print('Lật ma trận theo cột: \\n',A1)"
   ]
  },
  {
   "cell_type": "code",
   "execution_count": 49,
   "metadata": {},
   "outputs": [
    {
     "name": "stdout",
     "output_type": "stream",
     "text": [
      "Lật ma trận theo hàng: \n",
      " [[21 22 23 24 25]\n",
      " [16 17 18 19 20]\n",
      " [11 12 13 14 15]\n",
      " [ 6  7  8  9 10]\n",
      " [ 1  2  3  4  5]]\n"
     ]
    }
   ],
   "source": [
    "#Lật ma trận theo hàng\n",
    "A2 = np.flip(A,0) \n",
    "#Tương đương với\n",
    "# A2 = np.flipud(A)\n",
    "print('Lật ma trận theo hàng: \\n',A2)"
   ]
  },
  {
   "cell_type": "code",
   "execution_count": 50,
   "metadata": {},
   "outputs": [
    {
     "name": "stdout",
     "output_type": "stream",
     "text": [
      "[ 1  2  3  4  5  6  7  8  9 10 11 12 13 14 15 16 17 18 19 20 21 22 23 24\n",
      " 25]\n",
      "----------------------------------------------\n",
      "[25 24 23 22 21 20 19 18 17 16 15 14 13 12 11 10  9  8  7  6  5  4  3  2\n",
      "  1]\n"
     ]
    },
    {
     "name": "stderr",
     "output_type": "stream",
     "text": [
      "<ipython-input-50-4345644a2b83>:2: DeprecationWarning: `np.int` is a deprecated alias for the builtin `int`. To silence this warning, use `int` by itself. Doing this will not modify any behavior and is safe. When replacing `np.int`, you may wish to use e.g. `np.int64` or `np.int32` to specify the precision. If you wish to review your current use, check the release note link for additional information.\n",
      "Deprecated in NumPy 1.20; for more details and guidance: https://numpy.org/devdocs/release/1.20.0-notes.html#deprecations\n",
      "  B = np.linspace(1,25,25,dtype=np.int)\n"
     ]
    }
   ],
   "source": [
    "#Lật vector\n",
    "B = np.linspace(1,25,25,dtype=np.int)\n",
    "print(B)\n",
    "print('----------------------------------------------')\n",
    "B1 = np.flip(B)\n",
    "print(B1)"
   ]
  },
  {
   "cell_type": "markdown",
   "metadata": {},
   "source": [
    "## THỰC HÀNH SỐ 4:\n",
    "---\n",
    "***Yêu cầu: Tạo một vector gồm 30 phần tử, có giá trị tăng dần từ 1 đến 30**\n",
    "\n",
    "Chỉ sử dụng các phương thức reshape, ravel, split…tách Vector a ở trên thành 3 vector con bao gồm:\n",
    "\n",
    "1. a_lẻ: chứa các phần tử là số lẻ; \n",
    "2. a_chan: chứa các phần tử là số chẵn.\n",
    "3. a_3: chứa các phần tử chia hết cho 3\n"
   ]
  },
  {
   "cell_type": "code",
   "execution_count": 93,
   "metadata": {},
   "outputs": [
    {
     "name": "stdout",
     "output_type": "stream",
     "text": [
      "[ 1  2  3  4  5  6  7  8  9 10 11 12 13 14 15 16 17 18 19 20 21 22 23 24\n",
      " 25 26 27 28 29 30]\n"
     ]
    }
   ],
   "source": [
    "#{ VIẾT CODE Ở ĐÂY}\n",
    "import numpy as np\n",
    "arr=np.linspace(1,30,30,dtype=int)\n",
    "print(arr)\n"
   ]
  },
  {
   "cell_type": "code",
   "execution_count": 94,
   "metadata": {},
   "outputs": [
    {
     "name": "stdout",
     "output_type": "stream",
     "text": [
      "[ 1.  3.  5.  7.  9. 11. 13. 15. 17. 19. 21. 23. 25. 27. 29.]\n",
      "[ 2.  4.  6.  8. 10. 12. 14. 16. 18. 20. 22. 24. 26. 28. 30.]\n",
      "[]\n"
     ]
    }
   ],
   "source": [
    "#1\n",
    "#2\n",
    "a_le=[]\n",
    "a_chan=[]\n",
    "# a_3=[]\n",
    "arr1=arr\n",
    "for i in range(0,15):\n",
    "    a,b,c=np.split(arr1,[1,2])\n",
    "    a_le=np.concatenate([a_le,a])\n",
    "    a_chan=np.concatenate([a_chan,b])\n",
    "#     a_3=np.concatenate([a_chan,c[0]])\n",
    "    arr1=c\n",
    "print(a_le)\n",
    "print(a_chan)\n",
    "print(a_3)"
   ]
  },
  {
   "cell_type": "code",
   "execution_count": 96,
   "metadata": {},
   "outputs": [
    {
     "name": "stdout",
     "output_type": "stream",
     "text": [
      "[ 3.  6.  9. 12. 15. 18. 21. 24. 27. 30.]\n"
     ]
    }
   ],
   "source": [
    "#3\n",
    "a_3=[]\n",
    "arr2=arr\n",
    "for i in range(0,arr.size):\n",
    "    if arr[i]%3==0:\n",
    "        a,b,c=np.split(arr2,[i,i+1])\n",
    "        a_3=np.concatenate([a_3,b])\n",
    "print(a_3)"
   ]
  },
  {
   "cell_type": "code",
   "execution_count": null,
   "metadata": {},
   "outputs": [],
   "source": []
  },
  {
   "cell_type": "code",
   "execution_count": null,
   "metadata": {},
   "outputs": [],
   "source": []
  },
  {
   "cell_type": "code",
   "execution_count": null,
   "metadata": {},
   "outputs": [],
   "source": []
  }
 ],
 "metadata": {
  "colab": {
   "collapsed_sections": [],
   "name": "Chuong_4_package_Numpy.ipynb",
   "provenance": []
  },
  "kernelspec": {
   "display_name": "Python 3",
   "language": "python",
   "name": "python3"
  },
  "language_info": {
   "codemirror_mode": {
    "name": "ipython",
    "version": 3
   },
   "file_extension": ".py",
   "mimetype": "text/x-python",
   "name": "python",
   "nbconvert_exporter": "python",
   "pygments_lexer": "ipython3",
   "version": "3.8.8"
  }
 },
 "nbformat": 4,
 "nbformat_minor": 1
}
